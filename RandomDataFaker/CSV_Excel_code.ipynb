{
 "cells": [
  {
   "cell_type": "code",
   "execution_count": 17,
   "metadata": {
    "colab": {
     "base_uri": "https://localhost:8080/"
    },
    "id": "fVaN1gNM9NQ-",
    "outputId": "c5675814-9e21-46cf-b5d4-15bd9ce21de5"
   },
   "outputs": [],
   "source": [
    "from faker import Faker\n",
    "import random\n",
    "import pandas as pd\n",
    "from random import randrange\n",
    "from datetime import datetime\n",
    "import numpy as np"
   ]
  },
  {
   "cell_type": "code",
   "execution_count": 18,
   "metadata": {
    "id": "A2WjKxFt9WnE"
   },
   "outputs": [],
   "source": [
    "nr_of_trekkers = 10000\n",
    "# time-stamp\n",
    "# email, name, height, weight, age, gender, city, locality\n",
    "# languages, college\n",
    "# working profession, have you gone trekking\n",
    "# preference of trek days\n",
    "# no. of previous treks\n",
    "# list of treks done\n",
    "# difficulty of trek\n",
    "# preferred location of trek\n",
    "# food preferences\n",
    "\n",
    "fake = Faker('de_DE')\n",
    "\n",
    "trekkers = []"
   ]
  },
  {
   "cell_type": "code",
   "execution_count": 19,
   "metadata": {
    "id": "hVv1LZqW9Z-B"
   },
   "outputs": [],
   "source": [
    "# generate a list of ages between 18 and 80 years old, with 1000 entries following a normal distribution\n",
    "ages = np.random.normal(30, 10, nr_of_trekkers).astype(int)\n",
    "# generate a list of number of previous treks between 0 and 10, with 1000 entries following a normal distribution\n",
    "previous_treks = np.random.normal(3, 1, nr_of_trekkers).astype(int)\n",
    "\n",
    "localities = {\n",
    "    \"Pune\":  [\n",
    "        \"Kothrud\", \"Nal Stop\", \"Aundh\", \"Pimpri\", \"Shivaji Nagar\"\n",
    "    ], # list of localities random \n",
    "    \"Mumbai\": [\n",
    "        \"Bandra\", \"Andheri\", \"Borivali\", \"Ghatkopar\", \"Kandivali\"\n",
    "    ],\n",
    "    \"Nashik\": [\n",
    "        \"Satpur\", \"Ambad\", \"Panchavati\", \"Sadar\", \"Gangapur\"\n",
    "    ],\n",
    "    \"Kolhapur\": [\n",
    "        \"Kagal\", \"Tarabai Park\", \"Kasaba Bawada\", \"D Ward\", \"Gadhinglaj\"\n",
    "    ],\n",
    "    \"Nagpur\": [\n",
    "        \"Kamptee\", \"Bank Colony\", \"Kalameshwar\", \"Reshim Bagh\", \"Koradi Road\"\n",
    "    ]\n",
    "}\n",
    "\n",
    "for customers_id in range(nr_of_trekkers):\n",
    "    # creating time-stamp:\n",
    "    d1 = datetime.strptime(f'1/1/2021', '%m/%d/%Y')\n",
    "    d2 = datetime.strptime(f'12/31/2022', '%m/%d/%Y')\n",
    "    transaction_date = fake.date_between(d1, d2)\n",
    "    # create email:\n",
    "    email = fake.ascii_email()\n",
    "    # create trekkers name:\n",
    "    name = fake.name()\n",
    "\n",
    "    # create height:\n",
    "    height = fake.random_int(160, 199)\n",
    "    # create weight:\n",
    "    weight = fake.random_int(50, 110)\n",
    "\n",
    "    # create age:\n",
    "    age = ages[customers_id]\n",
    "    if age < 10:\n",
    "        age = 30-age\n",
    "    \n",
    "    # create gender:\n",
    "    gender = random.choice([\"M\", \"F\", \"None\"])\n",
    "    # create city:\n",
    "    city = random.choice([\"Pune\", \"Mumbai\", \"Nashik\", \"Kolhapur\", \"Nagpur\"])\n",
    "    # create locality:\n",
    "\n",
    "    locality = random.choice(localities[city])\n",
    "\n",
    "    # choose max 3 min 1 languages\n",
    "    languages = random.sample([\"English\", \"Hindi\", \"Marathi\", \"Gujarati\", \"Bengali\",\"Urdu\"], k=random.randint(1, 3))\n",
    "    # create college:\n",
    "    college = random.choice([\"MIT-WPU\", \"SPPU\", \"MIT-ADT\", \"PCCOE\", \"PICT\", \"VIT\"])\n",
    "    # create profession:\n",
    "    profession = random.choice([\"Student\", \"Engineer\", \"Doctor\", \"Lawyer\", \"Teacher\", \"Businessman\", \"Farmer\",\"Entrepreneur\", \"Company Exectuive\",\"Other\"])\n",
    "    # create YES/NO:\n",
    "    # create preference of trek days:\n",
    "    gone_trekking = random.choice([\"Y\", \"N\"])\n",
    "    if gone_trekking == \"Y\":\n",
    "        num_treks = previous_treks[customers_id]\n",
    "    else:\n",
    "        num_treks = 0\n",
    "\n",
    "    # preference of trek days monday to sunday, min 1 max 7\n",
    "    preferred_days = random.sample([\"Monday\", \"Tuesday\", \"Wednesday\", \"Thursday\", \"Friday\", \"Saturday\", \"Sunday\"], k=random.randint(1, 7))\n",
    "    # list of treks done:\n",
    "   # prev_treks = random.choice()\n",
    "    # difficulty of treks:\n",
    "    difficulty_trek = random.choice([\"Beginner\", \"Intermediate\", \"Experienced\"])\n",
    "    # preferred location of treks:\n",
    "\n",
    "    # food choice:\n",
    "    food_choice = random.choice([\"Non-Veg\", \"Veg\", \"Vegan\"])\n",
    "\n",
    "\n",
    "    trekkers.append([email, name, height, weight,age, gender, city, locality, languages, college, profession,\n",
    "                     gone_trekking, preferred_days, num_treks, difficulty_trek])\n",
    "\n",
    "\n"
   ]
  },
  {
   "cell_type": "code",
   "execution_count": 20,
   "metadata": {
    "colab": {
     "base_uri": "https://localhost:8080/"
    },
    "id": "mShF0icQ9dBG",
    "outputId": "2f848bea-ce4c-4dbc-cb27-b2797e35d5ca"
   },
   "outputs": [
    {
     "name": "stdout",
     "output_type": "stream",
     "text": [
      "                       Email-ID                      Name  Height  Weight  \\\n",
      "0       hamannjochen@ullrich.de     Larissa Holt-Pruschke     178      58   \n",
      "1                fredy76@web.de        Herr Giorgio Gertz     192      67   \n",
      "2              mariola89@web.de              Eugen Mälzer     197      52   \n",
      "3             heribert83@aol.de      Adriane Margraf-Beer     180      53   \n",
      "4       schuelerirmtraut@gmx.de             Eberhard Kuhl     195     106   \n",
      "...                         ...                       ...     ...     ...   \n",
      "9995  pechelkai-uwe@mohaupt.com            Verena Schacht     192     104   \n",
      "9996        oweinhold@binner.de      Gabriella Möchlichen     179      97   \n",
      "9997        zbinner@haering.com       Paul-Gerhard Pechel     195      78   \n",
      "9998           ybarth@jacob.org            Klothilde Henk     169      94   \n",
      "9999         qthanel@hotmail.de  Dr. Tilman Ortmann B.Sc.     177      85   \n",
      "\n",
      "      Age Gender      City       Locality                  Languages  college  \\\n",
      "0      30   None    Nagpur    Reshim Bagh                 [Gujarati]      VIT   \n",
      "1      27      F  Kolhapur   Tarabai Park              [Urdu, Hindi]      VIT   \n",
      "2      34      M      Pune  Shivaji Nagar   [Marathi, Urdu, English]  MIT-WPU   \n",
      "3      28      M  Kolhapur  Kasaba Bawada        [Bengali, Gujarati]     SPPU   \n",
      "4      21      F    Nagpur    Bank Colony         [Marathi, Bengali]  MIT-ADT   \n",
      "...   ...    ...       ...            ...                        ...      ...   \n",
      "9995   28   None      Pune          Aundh   [English, Urdu, Marathi]      VIT   \n",
      "9996   34      F      Pune        Kothrud                  [English]  MIT-ADT   \n",
      "9997   31      F    Mumbai        Andheri                  [Bengali]     SPPU   \n",
      "9998   21      F    Nashik       Gangapur  [English, Bengali, Hindi]  MIT-WPU   \n",
      "9999   43      F      Pune         Pimpri                    [Hindi]  MIT-WPU   \n",
      "\n",
      "             Profession Have you gone Trekking  \\\n",
      "0               Student                      N   \n",
      "1              Engineer                      Y   \n",
      "2     Company Exectuive                      N   \n",
      "3          Entrepreneur                      N   \n",
      "4                 Other                      Y   \n",
      "...                 ...                    ...   \n",
      "9995            Teacher                      N   \n",
      "9996             Doctor                      Y   \n",
      "9997             Doctor                      N   \n",
      "9998       Entrepreneur                      N   \n",
      "9999              Other                      N   \n",
      "\n",
      "                                         Preferred Days  Number of Treks  \\\n",
      "0                            [Saturday, Monday, Sunday]                0   \n",
      "1         [Wednesday, Sunday, Monday, Saturday, Friday]                1   \n",
      "2                                              [Sunday]                0   \n",
      "3     [Friday, Sunday, Monday, Thursday, Tuesday, We...                0   \n",
      "4          [Friday, Thursday, Monday, Saturday, Sunday]                4   \n",
      "...                                                 ...              ...   \n",
      "9995  [Friday, Sunday, Wednesday, Tuesday, Thursday,...                0   \n",
      "9996      [Thursday, Friday, Saturday, Sunday, Tuesday]                4   \n",
      "9997            [Wednesday, Saturday, Thursday, Sunday]                0   \n",
      "9998               [Friday, Saturday, Thursday, Monday]                0   \n",
      "9999            [Saturday, Thursday, Friday, Wednesday]                0   \n",
      "\n",
      "     Difficulty of Trek  \n",
      "0          Intermediate  \n",
      "1           Experienced  \n",
      "2           Experienced  \n",
      "3          Intermediate  \n",
      "4           Experienced  \n",
      "...                 ...  \n",
      "9995       Intermediate  \n",
      "9996        Experienced  \n",
      "9997        Experienced  \n",
      "9998       Intermediate  \n",
      "9999       Intermediate  \n",
      "\n",
      "[10000 rows x 15 columns]\n"
     ]
    }
   ],
   "source": [
    "\n",
    "trekkers_df = pd.DataFrame(trekkers, columns=['Email-ID', 'Name', 'Height', 'Weight', 'Age', 'Gender', 'City', 'Locality',\n",
    "                                               'Languages', 'college', 'Profession', 'Have you gone Trekking', 'Preferred Days',\n",
    "                                               'Number of Treks', 'Difficulty of Trek'])\n",
    "\n",
    "pd.pandas.set_option('display.max_columns', None)\n",
    "print(trekkers_df)"
   ]
  },
  {
   "cell_type": "code",
   "execution_count": 21,
   "metadata": {
    "id": "zqMbZZed_6cu"
   },
   "outputs": [
    {
     "data": {
      "text/plain": [
       "<AxesSubplot:>"
      ]
     },
     "execution_count": 21,
     "metadata": {},
     "output_type": "execute_result"
    },
    {
     "data": {
      "image/png": "[encoded data removed]",
      "text/plain": [
       "<Figure size 432x288 with 1 Axes>"
      ]
     },
     "metadata": {
      "needs_background": "light"
     },
     "output_type": "display_data"
    }
   ],
   "source": [
    "trekkers_df[\"Age\"].value_counts().sort_index().plot(kind=\"line\")"
   ]
  },
  {
   "cell_type": "code",
   "execution_count": 22,
   "metadata": {
    "colab": {
     "base_uri": "https://localhost:8080/",
     "height": 17
    },
    "id": "tUQCbM5e9wY5",
    "outputId": "35f0b5c4-9dbf-44be-9596-7682d48e3474"
   },
   "outputs": [
    {
     "data": {
      "text/html": [
       "<div>\n",
       "<style scoped>\n",
       "    .dataframe tbody tr th:only-of-type {\n",
       "        vertical-align: middle;\n",
       "    }\n",
       "\n",
       "    .dataframe tbody tr th {\n",
       "        vertical-align: top;\n",
       "    }\n",
       "\n",
       "    .dataframe thead th {\n",
       "        text-align: right;\n",
       "    }\n",
       "</style>\n",
       "<table border=\"1\" class=\"dataframe\">\n",
       "  <thead>\n",
       "    <tr style=\"text-align: right;\">\n",
       "      <th></th>\n",
       "      <th>Height</th>\n",
       "      <th>Weight</th>\n",
       "      <th>Age</th>\n",
       "      <th>Number of Treks</th>\n",
       "    </tr>\n",
       "  </thead>\n",
       "  <tbody>\n",
       "    <tr>\n",
       "      <th>count</th>\n",
       "      <td>10000.000000</td>\n",
       "      <td>10000.000000</td>\n",
       "      <td>10000.000000</td>\n",
       "      <td>10000.000000</td>\n",
       "    </tr>\n",
       "    <tr>\n",
       "      <th>mean</th>\n",
       "      <td>179.631500</td>\n",
       "      <td>79.922300</td>\n",
       "      <td>29.751800</td>\n",
       "      <td>1.253400</td>\n",
       "    </tr>\n",
       "    <tr>\n",
       "      <th>std</th>\n",
       "      <td>11.541752</td>\n",
       "      <td>17.586125</td>\n",
       "      <td>9.254608</td>\n",
       "      <td>1.464788</td>\n",
       "    </tr>\n",
       "    <tr>\n",
       "      <th>min</th>\n",
       "      <td>160.000000</td>\n",
       "      <td>50.000000</td>\n",
       "      <td>10.000000</td>\n",
       "      <td>0.000000</td>\n",
       "    </tr>\n",
       "    <tr>\n",
       "      <th>25%</th>\n",
       "      <td>170.000000</td>\n",
       "      <td>65.000000</td>\n",
       "      <td>23.000000</td>\n",
       "      <td>0.000000</td>\n",
       "    </tr>\n",
       "    <tr>\n",
       "      <th>50%</th>\n",
       "      <td>180.000000</td>\n",
       "      <td>80.000000</td>\n",
       "      <td>29.000000</td>\n",
       "      <td>0.000000</td>\n",
       "    </tr>\n",
       "    <tr>\n",
       "      <th>75%</th>\n",
       "      <td>190.000000</td>\n",
       "      <td>95.000000</td>\n",
       "      <td>36.000000</td>\n",
       "      <td>3.000000</td>\n",
       "    </tr>\n",
       "    <tr>\n",
       "      <th>max</th>\n",
       "      <td>199.000000</td>\n",
       "      <td>110.000000</td>\n",
       "      <td>68.000000</td>\n",
       "      <td>7.000000</td>\n",
       "    </tr>\n",
       "  </tbody>\n",
       "</table>\n",
       "</div>"
      ],
      "text/plain": [
       "             Height        Weight           Age  Number of Treks\n",
       "count  10000.000000  10000.000000  10000.000000     10000.000000\n",
       "mean     179.631500     79.922300     29.751800         1.253400\n",
       "std       11.541752     17.586125      9.254608         1.464788\n",
       "min      160.000000     50.000000     10.000000         0.000000\n",
       "25%      170.000000     65.000000     23.000000         0.000000\n",
       "50%      180.000000     80.000000     29.000000         0.000000\n",
       "75%      190.000000     95.000000     36.000000         3.000000\n",
       "max      199.000000    110.000000     68.000000         7.000000"
      ]
     },
     "execution_count": 22,
     "metadata": {},
     "output_type": "execute_result"
    }
   ],
   "source": [
    "trekkers_df.describe()"
   ]
  },
  {
   "cell_type": "code",
   "execution_count": 23,
   "metadata": {
    "colab": {
     "base_uri": "https://localhost:8080/",
     "height": 17
    },
    "id": "Ij6E01aI-HFZ",
    "outputId": "6b687219-405f-46be-90cd-d8e368de8c56"
   },
   "outputs": [
    {
     "name": "stdout",
     "output_type": "stream",
     "text": [
      "<class 'pandas.core.frame.DataFrame'>\n",
      "RangeIndex: 10000 entries, 0 to 9999\n",
      "Data columns (total 15 columns):\n",
      " #   Column                  Non-Null Count  Dtype \n",
      "---  ------                  --------------  ----- \n",
      " 0   Email-ID                10000 non-null  object\n",
      " 1   Name                    10000 non-null  object\n",
      " 2   Height                  10000 non-null  int64 \n",
      " 3   Weight                  10000 non-null  int64 \n",
      " 4   Age                     10000 non-null  int64 \n",
      " 5   Gender                  10000 non-null  object\n",
      " 6   City                    10000 non-null  object\n",
      " 7   Locality                10000 non-null  object\n",
      " 8   Languages               10000 non-null  object\n",
      " 9   college                 10000 non-null  object\n",
      " 10  Profession              10000 non-null  object\n",
      " 11  Have you gone Trekking  10000 non-null  object\n",
      " 12  Preferred Days          10000 non-null  object\n",
      " 13  Number of Treks         10000 non-null  int64 \n",
      " 14  Difficulty of Trek      10000 non-null  object\n",
      "dtypes: int64(4), object(11)\n",
      "memory usage: 1.1+ MB\n"
     ]
    }
   ],
   "source": [
    "trekkers_df.info()"
   ]
  },
  {
   "cell_type": "code",
   "execution_count": 24,
   "metadata": {},
   "outputs": [],
   "source": [
    "trekkers_df.to_csv('../Data/trekkers_df_without_bias.csv', index=False)"
   ]
  },
  {
   "cell_type": "code",
   "execution_count": null,
   "metadata": {},
   "outputs": [],
   "source": []
  }
 ],
 "metadata": {
  "colab": {
   "provenance": []
  },
  "kernelspec": {
   "display_name": "Python 3.10.7 64-bit",
   "language": "python",
   "name": "python3"
  },
  "language_info": {
   "codemirror_mode": {
    "name": "ipython",
    "version": 3
   },
   "file_extension": ".py",
   "mimetype": "text/x-python",
   "name": "python",
   "nbconvert_exporter": "python",
   "pygments_lexer": "ipython3",
   "version": "3.10.8"
  },
  "vscode": {
   "interpreter": {
    "hash": "e7370f93d1d0cde622a1f8e1c04877d8463912d04d973331ad4851f04de6915a"
   }
  }
 },
 "nbformat": 4,
 "nbformat_minor": 0
}
