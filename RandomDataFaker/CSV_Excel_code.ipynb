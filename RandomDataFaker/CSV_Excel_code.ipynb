{
  "nbformat": 4,
  "nbformat_minor": 0,
  "metadata": {
    "colab": {
      "provenance": []
    },
    "kernelspec": {
      "name": "python3",
      "display_name": "Python 3"
    },
    "language_info": {
      "name": "python"
    }
  },
  "cells": [
    {
      "cell_type": "code",
      "execution_count": null,
      "metadata": {
        "colab": {
          "base_uri": "https://localhost:8080/"
        },
        "id": "fVaN1gNM9NQ-",
        "outputId": "c5675814-9e21-46cf-b5d4-15bd9ce21de5"
      },
      "outputs": [
        {
          "output_type": "stream",
          "name": "stdout",
          "text": [
            "Looking in indexes: https://pypi.org/simple, https://us-python.pkg.dev/colab-wheels/public/simple/\n",
            "Collecting Faker\n",
            "  Downloading Faker-15.0.0-py3-none-any.whl (1.6 MB)\n",
            "\u001b[K     |████████████████████████████████| 1.6 MB 5.2 MB/s \n",
            "\u001b[?25hRequirement already satisfied: typing-extensions>=3.7.4.3 in /usr/local/lib/python3.7/dist-packages (from Faker) (4.1.1)\n",
            "Requirement already satisfied: python-dateutil>=2.4 in /usr/local/lib/python3.7/dist-packages (from Faker) (2.8.2)\n",
            "Requirement already satisfied: six>=1.5 in /usr/local/lib/python3.7/dist-packages (from python-dateutil>=2.4->Faker) (1.15.0)\n",
            "Installing collected packages: Faker\n",
            "Successfully installed Faker-15.0.0\n"
          ]
        }
      ],
      "source": [
        "!pip install Faker\n",
        "from faker import Faker\n",
        "import random\n",
        "import pandas as pd\n",
        "from random import randrange\n",
        "from datetime import datetime\n",
        "from google.colab import files"
      ]
    },
    {
      "cell_type": "code",
      "source": [
        "nr_of_trekkers = 10000\n",
        "# time-stamp\n",
        "# email, name, height, weight, age, gender, city, locality\n",
        "# languages, college\n",
        "# working profession, have you gone trekking\n",
        "# preference of trek days\n",
        "# no. of previous treks\n",
        "# list of treks done\n",
        "# difficulty of trek\n",
        "# preferred location of trek\n",
        "# food preferences\n",
        "\n",
        "fake = Faker('de_DE')\n",
        "\n",
        "trekkers = []"
      ],
      "metadata": {
        "id": "A2WjKxFt9WnE"
      },
      "execution_count": null,
      "outputs": []
    },
    {
      "cell_type": "code",
      "source": [
        "\n",
        "for customers_id in range(nr_of_trekkers):\n",
        "    # creating time-stamp:\n",
        "    d1 = datetime.strptime(f'1/1/2021', '%m/%d/%Y')\n",
        "    d2 = datetime.strptime(f'12/31/2022', '%m/%d/%Y')\n",
        "    transaction_date = fake.date_between(d1, d2)\n",
        "    # create email:\n",
        "    email = fake.ascii_email()\n",
        "    # create trekkers name:\n",
        "    name = fake.name()\n",
        "    # create height:\n",
        "    height = fake.random_int(160, 199)\n",
        "    # create weight:\n",
        "    weight = fake.random_int(50, 110)\n",
        "    # create age:\n",
        "    age = fake.random_int(0, 100)\n",
        "    # create gender:\n",
        "    gender = random.choice([\"M\", \"F\", \"None\"])\n",
        "    # create city:\n",
        "    city = random.choice([\"Pune\", \"Mumbai\", \"Nashik\", \"Kolhapur\", \"Nagpur\"])\n",
        "    # create locality:\n",
        "    locality = random.choice([\"Sky-One\", \"Krishna Kamal\", \"Midori Towers\", \"24K-KPS\", \"Krishna Park\", \"Evergreen Society\"])\n",
        "    # create languages:\n",
        "    languages = random.choice([\"English\", \"Marathi\", \"Hindi\", \"Gujarati\", \"Urdu\"])\n",
        "    # create college:\n",
        "    college = random.choice([\"MIT-WPU\", \"SPPU\", \"MIT-ADT\", \"PCCOE\", \"PICT\", \"VIT\"])\n",
        "    # create profession:\n",
        "    profession = random.choice([\"accountant\",\"actor\",\"air traffic controller\",\"architect\",\"artist\",\"attorney\",\"banker\",\n",
        "                                    \"bartender\",\"barber\",\"bookkeeper\",\"builder\",\"businessman\",\"businessperson\",\"butcher\",\"carpenter\",\n",
        "                              \"cashier\",\"chef\",\"coach\",\"dental hygienist\",\"dentist\",\"designer\",\"developer\",\"dietician\",\"doctor\",\"economist\",\"editor\",\n",
        "                              \"electrician\",\"engineer\",\"farmer\",\"fisherman\",\"flight attendant\",\"jeweler\",\"judge\",\"lawyer\",\"mechanic\",\n",
        "                              \"musician\",\"nutritionist\",\"nurse\",\"optician\",\"painter\",\"pharmacist\",\"photographer\",\"physician\",\"pilot\",\n",
        "                              \"plumber\",\"policeofficer\",  \"politician\",\"professor\",\"programmer\",\"psychologist\",\"receptionist\",\"salesman\",\n",
        "                              \"salesperson\",\"secretary\",\"singer\",\"surgeon\"\"teacher\",\"therapist\",\"translator\",\"translator\",\"undertaker\",\n",
        "                              \"veterinarian\",\"videographer\",\"waiter\",\"writer\",\"Professors\",\"Teachers\",\"Actors\",\"Clergy\",\"Musicians\",\n",
        "                              \"Philosophers\",\"Visual Artists\",\"Writers\",\"Audiologists\",\"Chiropractors\",\"Dentists\",\"Dietitians\",\"Doctors\",\n",
        "                              \"Medical Laboratory Scientists\",\"Midwives\",\"Nurses\",\"Occupationaltherapists\",\"Optometrists\",\"Pathologists\",\n",
        "                              \"Pharmacists\",\"Physicaltherapists\",\"Physicians\",\"Psychologists\",\"Speechlanguagepathologists\",\"Accountants\",\n",
        "                              \"Actuaries\",\"Agriculturists\",\"Architects\",\"Economists\",\"Engineers\",\"Interpreters\",\"Attorney\",\"Advocates\",\n",
        "                              \"Solicitors\",\"Librarians\",\"Statisticians\",\"Surveyors\",\"Urbanplanners\",\"Humanresources\",\"Firefighters\",\"Judges\",\n",
        "                              \"Militaryofficers\",\"Policeofficers\",\"Airtrafficcontrollers\",\"Aircraftpilots\",\"Seacaptains\",\"Scientists\",\n",
        "                              \"Astronomers\",\"Biologists\",\"Botanists\",\"Ecologists\",\"Geneticists\",\"Immunologists\",\"Pharmacologists\",\"Virologists\",\n",
        "                              \"Zoologists\",\"Chemists\",\"Geologists\",\"Meteorologists\",\"Oceanographers\",\"Physicists\",\"Programmers\",\"Webdevelopers\",\n",
        "                              \"Designers\",\"Graphicdesigners\",\"Webdesigners\",\"Physicians\",\"surgeons\",\"Dentists\",\"Veterinarians\",\"Pharmacists\",\n",
        "                              \"Chiropractors\",\"Osteopaths\",\"Optometrists\",\"Opticians\",\"RegisteredNurses\",\"Licensedpracticalnurses\",\"Dieticians\",\n",
        "                              \"Physicaltherapists\",\"Occupationaltherapists\",\"Dentalhygienists\",\"Clinicallabtechnicians\",\"EMTspecialist\",\"Speechpathologists\",\n",
        "                              \"Physicianassistants\",\"Paramedics\"])\n",
        "    # create YES/NO:\n",
        "    gone_trekking = random.choice([\"Y\", \"N\"])\n",
        "    # create preference of trek days:\n",
        "    preferred_days = random.choice([\"Friday\", \"Saturday\", \"Sunday\", \"Monday\"])\n",
        "    # create no. of treks done:\n",
        "    num_treks = fake.random_int(0, 20)\n",
        "    # list of treks done:\n",
        "   # prev_treks = random.choice()\n",
        "    # difficulty of treks:\n",
        "    difficulty_trek = random.choice([\"Beginner\", \"Intermediate\", \"Experienced\"])\n",
        "    # preferred location of treks:\n",
        "\n",
        "    # food choice:\n",
        "    food_choice = random.choice([\"Non-Veg\", \"Veg\", \"Vegan\"])\n",
        "\n",
        "\n",
        "    trekkers.append([email, name, height, weight, age, gender, city, locality, languages, college, profession,\n",
        "                     gone_trekking, preferred_days, num_treks, difficulty_trek])"
      ],
      "metadata": {
        "id": "hVv1LZqW9Z-B"
      },
      "execution_count": null,
      "outputs": []
    },
    {
      "cell_type": "code",
      "source": [
        "\n",
        "trekkers_df = pd.DataFrame(trekkers, columns=['Email-ID', 'Name', 'Height', 'Weight', 'Age', 'Gender', 'City', 'Locality',\n",
        "                                               'Languages', 'college', 'Profession', 'Have you gone Trekking', 'Preferred Days',\n",
        "                                               'Number of Treks', 'Difficulty of Trek'])\n",
        "\n",
        "pd.pandas.set_option('display.max_columns', None)\n",
        "print(trekkers_df)\n"
      ],
      "metadata": {
        "colab": {
          "base_uri": "https://localhost:8080/"
        },
        "id": "mShF0icQ9dBG",
        "outputId": "2f848bea-ce4c-4dbc-cb27-b2797e35d5ca"
      },
      "execution_count": null,
      "outputs": [
        {
          "output_type": "stream",
          "name": "stdout",
          "text": [
            "                     Email-ID                          Name  Height  Weight  \\\n",
            "0            jose32@adler.net                   Hilma Adler     166      73   \n",
            "1       jasminjockel@gunpf.de           Alois Scholz B.Eng.     174     106   \n",
            "2            jjuettner@web.de                   Andre Gunpf     162      62   \n",
            "3           cengiz74@jaehn.de                   Tanja Lorch     177      99   \n",
            "4           uwesack@gmail.com        Frau Geza Zimmer B.Sc.     173      95   \n",
            "...                       ...                           ...     ...     ...   \n",
            "9995     kamil78@girschner.de          Dr. Gottfried Martin     195      99   \n",
            "9996         aritter@yahoo.de               Angelique Ernst     161      70   \n",
            "9997    karl06@googlemail.com             Sina Hornich B.A.     179      60   \n",
            "9998        bmartin@trupp.com         Liliane Hauffer-Hövel     190      65   \n",
            "9999  nikolausmitschke@aol.de  Ing. Nadeschda Peukert B.Sc.     199      99   \n",
            "\n",
            "      Age Gender      City           Locality Languages  college  \\\n",
            "0      33      M  Kolhapur            Sky-One   Marathi    PCCOE   \n",
            "1      56      M    Mumbai      Krishna Kamal   English  MIT-ADT   \n",
            "2      31      F    Mumbai  Evergreen Society      Urdu     SPPU   \n",
            "3      85      M    Nashik  Evergreen Society     Hindi  MIT-ADT   \n",
            "4      54      F      Pune      Midori Towers  Gujarati     PICT   \n",
            "...   ...    ...       ...                ...       ...      ...   \n",
            "9995   85      M    Nashik      Krishna Kamal      Urdu     PICT   \n",
            "9996   14      M    Nashik       Krishna Park  Gujarati      VIT   \n",
            "9997   33      M    Mumbai            Sky-One     Hindi      VIT   \n",
            "9998   15      M    Nagpur       Krishna Park      Urdu     PICT   \n",
            "9999   12      M    Mumbai      Midori Towers   English     SPPU   \n",
            "\n",
            "                  Profession Have you gone Trekking Preferred Days  \\\n",
            "0                Astronomers                      N         Friday   \n",
            "1                     singer                      N         Monday   \n",
            "2     Occupationaltherapists                      Y         Monday   \n",
            "3              Urbanplanners                      Y         Sunday   \n",
            "4                 Professors                      Y         Friday   \n",
            "...                      ...                    ...            ...   \n",
            "9995  Occupationaltherapists                      Y       Saturday   \n",
            "9996              bookkeeper                      N         Friday   \n",
            "9997           Statisticians                      N       Saturday   \n",
            "9998               therapist                      N         Sunday   \n",
            "9999               Advocates                      Y         Sunday   \n",
            "\n",
            "      Number of Treks Difficulty of Trek  \n",
            "0                  16        Experienced  \n",
            "1                   8           Beginner  \n",
            "2                  13           Beginner  \n",
            "3                  11           Beginner  \n",
            "4                   9        Experienced  \n",
            "...               ...                ...  \n",
            "9995                6           Beginner  \n",
            "9996               20        Experienced  \n",
            "9997               10           Beginner  \n",
            "9998                5       Intermediate  \n",
            "9999               11       Intermediate  \n",
            "\n",
            "[10000 rows x 15 columns]\n"
          ]
        }
      ]
    },
    {
      "cell_type": "code",
      "source": [
        "from google.colab import drive\n",
        "drive.mount('/content/drive')"
      ],
      "metadata": {
        "id": "zqMbZZed_6cu"
      },
      "execution_count": null,
      "outputs": []
    },
    {
      "cell_type": "code",
      "source": [
        "trekkers_df.to_csv('trekkers_df.csv')\n",
        "files.download('trekkers_df.csv')"
      ],
      "metadata": {
        "colab": {
          "base_uri": "https://localhost:8080/",
          "height": 17
        },
        "id": "tUQCbM5e9wY5",
        "outputId": "35f0b5c4-9dbf-44be-9596-7682d48e3474"
      },
      "execution_count": null,
      "outputs": [
        {
          "output_type": "display_data",
          "data": {
            "text/plain": [
              "<IPython.core.display.Javascript object>"
            ],
            "application/javascript": [
              "\n",
              "    async function download(id, filename, size) {\n",
              "      if (!google.colab.kernel.accessAllowed) {\n",
              "        return;\n",
              "      }\n",
              "      const div = document.createElement('div');\n",
              "      const label = document.createElement('label');\n",
              "      label.textContent = `Downloading \"${filename}\": `;\n",
              "      div.appendChild(label);\n",
              "      const progress = document.createElement('progress');\n",
              "      progress.max = size;\n",
              "      div.appendChild(progress);\n",
              "      document.body.appendChild(div);\n",
              "\n",
              "      const buffers = [];\n",
              "      let downloaded = 0;\n",
              "\n",
              "      const channel = await google.colab.kernel.comms.open(id);\n",
              "      // Send a message to notify the kernel that we're ready.\n",
              "      channel.send({})\n",
              "\n",
              "      for await (const message of channel.messages) {\n",
              "        // Send a message to notify the kernel that we're ready.\n",
              "        channel.send({})\n",
              "        if (message.buffers) {\n",
              "          for (const buffer of message.buffers) {\n",
              "            buffers.push(buffer);\n",
              "            downloaded += buffer.byteLength;\n",
              "            progress.value = downloaded;\n",
              "          }\n",
              "        }\n",
              "      }\n",
              "      const blob = new Blob(buffers, {type: 'application/binary'});\n",
              "      const a = document.createElement('a');\n",
              "      a.href = window.URL.createObjectURL(blob);\n",
              "      a.download = filename;\n",
              "      div.appendChild(a);\n",
              "      a.click();\n",
              "      div.remove();\n",
              "    }\n",
              "  "
            ]
          },
          "metadata": {}
        },
        {
          "output_type": "display_data",
          "data": {
            "text/plain": [
              "<IPython.core.display.Javascript object>"
            ],
            "application/javascript": [
              "download(\"download_65c8d98f-0c83-4777-8e72-05b8e200d53b\", \"trekkers_df.csv\", 1275262)"
            ]
          },
          "metadata": {}
        }
      ]
    },
    {
      "cell_type": "code",
      "source": [
        "trekkers_df.to_excel('trekkers_df_ex.xlsx')\n",
        "files.download('trekkers_df_ex.xlsx')\n"
      ],
      "metadata": {
        "colab": {
          "base_uri": "https://localhost:8080/",
          "height": 17
        },
        "id": "Ij6E01aI-HFZ",
        "outputId": "6b687219-405f-46be-90cd-d8e368de8c56"
      },
      "execution_count": null,
      "outputs": [
        {
          "output_type": "display_data",
          "data": {
            "text/plain": [
              "<IPython.core.display.Javascript object>"
            ],
            "application/javascript": [
              "\n",
              "    async function download(id, filename, size) {\n",
              "      if (!google.colab.kernel.accessAllowed) {\n",
              "        return;\n",
              "      }\n",
              "      const div = document.createElement('div');\n",
              "      const label = document.createElement('label');\n",
              "      label.textContent = `Downloading \"${filename}\": `;\n",
              "      div.appendChild(label);\n",
              "      const progress = document.createElement('progress');\n",
              "      progress.max = size;\n",
              "      div.appendChild(progress);\n",
              "      document.body.appendChild(div);\n",
              "\n",
              "      const buffers = [];\n",
              "      let downloaded = 0;\n",
              "\n",
              "      const channel = await google.colab.kernel.comms.open(id);\n",
              "      // Send a message to notify the kernel that we're ready.\n",
              "      channel.send({})\n",
              "\n",
              "      for await (const message of channel.messages) {\n",
              "        // Send a message to notify the kernel that we're ready.\n",
              "        channel.send({})\n",
              "        if (message.buffers) {\n",
              "          for (const buffer of message.buffers) {\n",
              "            buffers.push(buffer);\n",
              "            downloaded += buffer.byteLength;\n",
              "            progress.value = downloaded;\n",
              "          }\n",
              "        }\n",
              "      }\n",
              "      const blob = new Blob(buffers, {type: 'application/binary'});\n",
              "      const a = document.createElement('a');\n",
              "      a.href = window.URL.createObjectURL(blob);\n",
              "      a.download = filename;\n",
              "      div.appendChild(a);\n",
              "      a.click();\n",
              "      div.remove();\n",
              "    }\n",
              "  "
            ]
          },
          "metadata": {}
        },
        {
          "output_type": "display_data",
          "data": {
            "text/plain": [
              "<IPython.core.display.Javascript object>"
            ],
            "application/javascript": [
              "download(\"download_a4fef343-1879-413e-9420-2545b288d9f6\", \"trekkers_df_ex.xlsx\", 1027755)"
            ]
          },
          "metadata": {}
        }
      ]
    }
  ]
}