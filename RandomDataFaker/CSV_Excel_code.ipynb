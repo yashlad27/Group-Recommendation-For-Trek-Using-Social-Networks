{
 "cells": [
  {
   "cell_type": "code",
   "execution_count": 1,
   "metadata": {
    "colab": {
     "base_uri": "https://localhost:8080/"
    },
    "id": "fVaN1gNM9NQ-",
    "outputId": "c5675814-9e21-46cf-b5d4-15bd9ce21de5"
   },
   "outputs": [],
   "source": [
    "from faker import Faker\n",
    "import random\n",
    "import pandas as pd\n",
    "from random import randrange\n",
    "from datetime import datetime\n",
    "import numpy as np"
   ]
  },
  {
   "cell_type": "code",
   "execution_count": 2,
   "metadata": {
    "id": "A2WjKxFt9WnE"
   },
   "outputs": [],
   "source": [
    "nr_of_trekkers = 10000\n",
    "# time-stamp\n",
    "# email, name, height, weight, age, gender, city, locality\n",
    "# languages, college\n",
    "# working profession, have you gone trekking\n",
    "# preference of trek days\n",
    "# no. of previous treks\n",
    "# list of treks done\n",
    "# difficulty of trek\n",
    "# preferred location of trek\n",
    "# food preferences\n",
    "\n",
    "fake = Faker('de_DE')\n",
    "\n",
    "trekkers = []"
   ]
  },
  {
   "cell_type": "code",
   "execution_count": 3,
   "metadata": {
    "id": "hVv1LZqW9Z-B"
   },
   "outputs": [],
   "source": [
    "# generate a list of ages between 18 and 80 years old, with 1000 entries following a normal distribution\n",
    "ages = np.random.normal(30, 10, nr_of_trekkers).astype(int)\n",
    "# generate a list of number of previous treks between 0 and 10, with 1000 entries following a normal distribution\n",
    "previous_treks = np.random.normal(3, 1, nr_of_trekkers).astype(int)\n",
    "\n",
    "for customers_id in range(nr_of_trekkers):\n",
    "    # creating time-stamp:\n",
    "    d1 = datetime.strptime(f'1/1/2021', '%m/%d/%Y')\n",
    "    d2 = datetime.strptime(f'12/31/2022', '%m/%d/%Y')\n",
    "    transaction_date = fake.date_between(d1, d2)\n",
    "    # create email:\n",
    "    email = fake.ascii_email()\n",
    "    # create trekkers name:\n",
    "    name = fake.name()\n",
    "\n",
    "    # create height:\n",
    "    height = fake.random_int(160, 199)\n",
    "    # create weight:\n",
    "    weight = fake.random_int(50, 110)\n",
    "\n",
    "    # create age:\n",
    "    age = ages[customers_id]\n",
    "    if age < 10:\n",
    "        age = 30-age\n",
    "    \n",
    "    # create gender:\n",
    "    gender = random.choice([\"M\", \"F\", \"None\"])\n",
    "    # create city:\n",
    "    city = random.choice([\"Pune\", \"Mumbai\", \"Nashik\", \"Kolhapur\", \"Nagpur\"])\n",
    "    # create locality:\n",
    "    locality = random.choice([\"Sky-One\", \"Krishna Kamal\", \"Midori Towers\", \"24K-KPS\", \"Krishna Park\", \"Evergreen Society\"])\n",
    "    # choose max 3 min 1 languages\n",
    "    languages = random.sample([\"English\", \"Hindi\", \"Marathi\", \"Gujarati\", \"Bengali\",\"Urdu\"], k=random.randint(1, 3))\n",
    "    # create college:\n",
    "    college = random.choice([\"MIT-WPU\", \"SPPU\", \"MIT-ADT\", \"PCCOE\", \"PICT\", \"VIT\"])\n",
    "    # create profession:\n",
    "    profession = random.choice([\"accountant\",\"actor\",\"air traffic controller\",\"architect\",\"artist\",\"attorney\",\"banker\",\n",
    "                                    \"bartender\",\"barber\",\"bookkeeper\",\"builder\",\"businessman\",\"businessperson\",\"butcher\",\"carpenter\",\n",
    "                              \"cashier\",\"chef\",\"coach\",\"dental hygienist\",\"dentist\",\"designer\",\"developer\",\"dietician\",\"doctor\",\"economist\",\"editor\",\n",
    "                              \"electrician\",\"engineer\",\"farmer\",\"fisherman\",\"flight attendant\",\"jeweler\",\"judge\",\"lawyer\",\"mechanic\",\n",
    "                              \"musician\",\"nutritionist\",\"nurse\",\"optician\",\"painter\",\"pharmacist\",\"photographer\",\"physician\",\"pilot\",\n",
    "                              \"plumber\",\"policeofficer\",  \"politician\",\"professor\",\"programmer\",\"psychologist\",\"receptionist\",\"salesman\",\n",
    "                              \"salesperson\",\"secretary\",\"singer\",\"surgeon\"\"teacher\",\"therapist\",\"translator\",\"translator\",\"undertaker\",\n",
    "                              \"veterinarian\",\"videographer\",\"waiter\",\"writer\",\"Professors\",\"Teachers\",\"Actors\",\"Clergy\",\"Musicians\",\n",
    "                              \"Philosophers\",\"Visual Artists\",\"Writers\",\"Audiologists\",\"Chiropractors\",\"Dentists\",\"Dietitians\",\"Doctors\",\n",
    "                              \"Medical Laboratory Scientists\",\"Midwives\",\"Nurses\",\"Occupationaltherapists\",\"Optometrists\",\"Pathologists\",\n",
    "                              \"Pharmacists\",\"Physicaltherapists\",\"Physicians\",\"Psychologists\",\"Speechlanguagepathologists\",\"Accountants\",\n",
    "                              \"Actuaries\",\"Agriculturists\",\"Architects\",\"Economists\",\"Engineers\",\"Interpreters\",\"Attorney\",\"Advocates\",\n",
    "                              \"Solicitors\",\"Librarians\",\"Statisticians\",\"Surveyors\",\"Urbanplanners\",\"Humanresources\",\"Firefighters\",\"Judges\",\n",
    "                              \"Militaryofficers\",\"Policeofficers\",\"Airtrafficcontrollers\",\"Aircraftpilots\",\"Seacaptains\",\"Scientists\",\n",
    "                              \"Astronomers\",\"Biologists\",\"Botanists\",\"Ecologists\",\"Geneticists\",\"Immunologists\",\"Pharmacologists\",\"Virologists\",\n",
    "                              \"Zoologists\",\"Chemists\",\"Geologists\",\"Meteorologists\",\"Oceanographers\",\"Physicists\",\"Programmers\",\"Webdevelopers\",\n",
    "                              \"Designers\",\"Graphicdesigners\",\"Webdesigners\",\"Physicians\",\"surgeons\",\"Dentists\",\"Veterinarians\",\"Pharmacists\",\n",
    "                              \"Chiropractors\",\"Osteopaths\",\"Optometrists\",\"Opticians\",\"RegisteredNurses\",\"Licensedpracticalnurses\",\"Dieticians\",\n",
    "                              \"Physicaltherapists\",\"Occupationaltherapists\",\"Dentalhygienists\",\"Clinicallabtechnicians\",\"EMTspecialist\",\"Speechpathologists\",\n",
    "                              \"Physicianassistants\",\"Paramedics\"])\n",
    "    # create YES/NO:\n",
    "    # create preference of trek days:\n",
    "    gone_trekking = random.choice([\"Y\", \"N\"])\n",
    "    if gone_trekking == \"Y\":\n",
    "        num_treks = previous_treks[customers_id]\n",
    "    else:\n",
    "        num_treks = 0\n",
    "\n",
    "    # preference of trek days monday to sunday, min 1 max 7\n",
    "    preferred_days = random.sample([\"Monday\", \"Tuesday\", \"Wednesday\", \"Thursday\", \"Friday\", \"Saturday\", \"Sunday\"], k=random.randint(1, 7))\n",
    "    # list of treks done:\n",
    "   # prev_treks = random.choice()\n",
    "    # difficulty of treks:\n",
    "    difficulty_trek = random.choice([\"Beginner\", \"Intermediate\", \"Experienced\"])\n",
    "    # preferred location of treks:\n",
    "\n",
    "    # food choice:\n",
    "    food_choice = random.choice([\"Non-Veg\", \"Veg\", \"Vegan\"])\n",
    "\n",
    "\n",
    "    trekkers.append([email, name, height, weight,age, gender, city, locality, languages, college, profession,\n",
    "                     gone_trekking, preferred_days, num_treks, difficulty_trek])\n",
    "\n",
    "\n"
   ]
  },
  {
   "cell_type": "code",
   "execution_count": 4,
   "metadata": {
    "colab": {
     "base_uri": "https://localhost:8080/"
    },
    "id": "mShF0icQ9dBG",
    "outputId": "2f848bea-ce4c-4dbc-cb27-b2797e35d5ca"
   },
   "outputs": [
    {
     "name": "stdout",
     "output_type": "stream",
     "text": [
      "                            Email-ID                      Name  Height  \\\n",
      "0           antoniogude@heydrich.org        Cynthia Säuberlich     171   \n",
      "1                constantin43@aol.de             Freddy Pechel     176   \n",
      "2     frankeklaus-guenter@textor.com  Karl-Werner Hering B.Sc.     182   \n",
      "3         killertraude@paertzelt.com    Heiner Lachmann B.Eng.     193   \n",
      "4               hethursalih@thies.de    Ernst-Dieter Rose MBA.     181   \n",
      "...                              ...                       ...     ...   \n",
      "9995            josefine50@gmail.com     Dr. Christian Wieloch     165   \n",
      "9996          qfoerster@beckmann.com               Hulda Wende     163   \n",
      "9997              ludwig56@gmail.com          Aloisia Hoffmann     190   \n",
      "9998                   yriehl@gmx.de             Nina Schleich     187   \n",
      "9999         draganjunken@bender.com            Ferdinand Graf     198   \n",
      "\n",
      "      Weight  Age Gender      City           Locality  \\\n",
      "0         87   18      F    Nagpur            Sky-One   \n",
      "1         62   40   None    Nagpur      Krishna Kamal   \n",
      "2         69   41      F    Nagpur  Evergreen Society   \n",
      "3         68   53   None    Nashik      Midori Towers   \n",
      "4         86   31   None    Nagpur       Krishna Park   \n",
      "...      ...  ...    ...       ...                ...   \n",
      "9995      58   18      M    Nagpur      Krishna Kamal   \n",
      "9996     109   27   None    Nagpur      Midori Towers   \n",
      "9997     105   46      F    Nagpur      Midori Towers   \n",
      "9998      84   23      M  Kolhapur            24K-KPS   \n",
      "9999      62   26      M  Kolhapur            24K-KPS   \n",
      "\n",
      "                       Languages  college              Profession  \\\n",
      "0        [Gujarati, Urdu, Hindi]    PCCOE  Occupationaltherapists   \n",
      "1                     [Gujarati]  MIT-ADT              pharmacist   \n",
      "2             [English, Bengali]     PICT                  farmer   \n",
      "3            [Gujarati, English]     SPPU              Paramedics   \n",
      "4                [Urdu, Bengali]      VIT               therapist   \n",
      "...                          ...      ...                     ...   \n",
      "9995          [Marathi, English]  MIT-ADT            Optometrists   \n",
      "9996                      [Urdu]  MIT-ADT           EMTspecialist   \n",
      "9997   [Bengali, Marathi, Hindi]    PCCOE                  barber   \n",
      "9998                   [English]     SPPU                  lawyer   \n",
      "9999  [Gujarati, Hindi, English]  MIT-ADT               secretary   \n",
      "\n",
      "     Have you gone Trekking  \\\n",
      "0                         N   \n",
      "1                         Y   \n",
      "2                         N   \n",
      "3                         Y   \n",
      "4                         Y   \n",
      "...                     ...   \n",
      "9995                      Y   \n",
      "9996                      Y   \n",
      "9997                      N   \n",
      "9998                      Y   \n",
      "9999                      Y   \n",
      "\n",
      "                                         Preferred Days  Number of Treks  \\\n",
      "0                         [Thursday, Tuesday, Saturday]                0   \n",
      "1                                  [Saturday, Thursday]                3   \n",
      "2                         [Saturday, Sunday, Wednesday]                0   \n",
      "3                              [Sunday, Monday, Friday]                2   \n",
      "4     [Tuesday, Friday, Wednesday, Thursday, Monday,...                3   \n",
      "...                                                 ...              ...   \n",
      "9995             [Wednesday, Saturday, Tuesday, Monday]                4   \n",
      "9996                      [Thursday, Tuesday, Saturday]                1   \n",
      "9997                                           [Monday]                0   \n",
      "9998  [Wednesday, Tuesday, Monday, Saturday, Thursda...                2   \n",
      "9999                                [Sunday, Wednesday]                2   \n",
      "\n",
      "     Difficulty of Trek  \n",
      "0              Beginner  \n",
      "1          Intermediate  \n",
      "2              Beginner  \n",
      "3           Experienced  \n",
      "4           Experienced  \n",
      "...                 ...  \n",
      "9995        Experienced  \n",
      "9996           Beginner  \n",
      "9997           Beginner  \n",
      "9998           Beginner  \n",
      "9999       Intermediate  \n",
      "\n",
      "[10000 rows x 15 columns]\n"
     ]
    }
   ],
   "source": [
    "\n",
    "trekkers_df = pd.DataFrame(trekkers, columns=['Email-ID', 'Name', 'Height', 'Weight', 'Age', 'Gender', 'City', 'Locality',\n",
    "                                               'Languages', 'college', 'Profession', 'Have you gone Trekking', 'Preferred Days',\n",
    "                                               'Number of Treks', 'Difficulty of Trek'])\n",
    "\n",
    "pd.pandas.set_option('display.max_columns', None)\n",
    "print(trekkers_df)"
   ]
  },
  {
   "cell_type": "code",
   "execution_count": 5,
   "metadata": {
    "id": "zqMbZZed_6cu"
   },
   "outputs": [
    {
     "data": {
      "text/plain": [
       "<AxesSubplot:>"
      ]
     },
     "execution_count": 5,
     "metadata": {},
     "output_type": "execute_result"
    },
    {
     "data": {
      "image/png": "[encoded data removed]",
      "text/plain": [
       "<Figure size 432x288 with 1 Axes>"
      ]
     },
     "metadata": {
      "needs_background": "light"
     },
     "output_type": "display_data"
    }
   ],
   "source": [
    "trekkers_df[\"Age\"].value_counts().sort_index().plot(kind=\"line\")"
   ]
  },
  {
   "cell_type": "code",
   "execution_count": 6,
   "metadata": {
    "colab": {
     "base_uri": "https://localhost:8080/",
     "height": 17
    },
    "id": "tUQCbM5e9wY5",
    "outputId": "35f0b5c4-9dbf-44be-9596-7682d48e3474"
   },
   "outputs": [
    {
     "data": {
      "text/html": [
       "<div>\n",
       "<style scoped>\n",
       "    .dataframe tbody tr th:only-of-type {\n",
       "        vertical-align: middle;\n",
       "    }\n",
       "\n",
       "    .dataframe tbody tr th {\n",
       "        vertical-align: top;\n",
       "    }\n",
       "\n",
       "    .dataframe thead th {\n",
       "        text-align: right;\n",
       "    }\n",
       "</style>\n",
       "<table border=\"1\" class=\"dataframe\">\n",
       "  <thead>\n",
       "    <tr style=\"text-align: right;\">\n",
       "      <th></th>\n",
       "      <th>Height</th>\n",
       "      <th>Weight</th>\n",
       "      <th>Age</th>\n",
       "      <th>Number of Treks</th>\n",
       "    </tr>\n",
       "  </thead>\n",
       "  <tbody>\n",
       "    <tr>\n",
       "      <th>count</th>\n",
       "      <td>10000.000000</td>\n",
       "      <td>10000.000000</td>\n",
       "      <td>10000.000000</td>\n",
       "      <td>10000.000000</td>\n",
       "    </tr>\n",
       "    <tr>\n",
       "      <th>mean</th>\n",
       "      <td>179.644300</td>\n",
       "      <td>79.925400</td>\n",
       "      <td>29.659600</td>\n",
       "      <td>1.237600</td>\n",
       "    </tr>\n",
       "    <tr>\n",
       "      <th>std</th>\n",
       "      <td>11.548667</td>\n",
       "      <td>17.508566</td>\n",
       "      <td>9.394315</td>\n",
       "      <td>1.453533</td>\n",
       "    </tr>\n",
       "    <tr>\n",
       "      <th>min</th>\n",
       "      <td>160.000000</td>\n",
       "      <td>50.000000</td>\n",
       "      <td>10.000000</td>\n",
       "      <td>0.000000</td>\n",
       "    </tr>\n",
       "    <tr>\n",
       "      <th>25%</th>\n",
       "      <td>170.000000</td>\n",
       "      <td>65.000000</td>\n",
       "      <td>23.000000</td>\n",
       "      <td>0.000000</td>\n",
       "    </tr>\n",
       "    <tr>\n",
       "      <th>50%</th>\n",
       "      <td>180.000000</td>\n",
       "      <td>80.000000</td>\n",
       "      <td>29.000000</td>\n",
       "      <td>0.000000</td>\n",
       "    </tr>\n",
       "    <tr>\n",
       "      <th>75%</th>\n",
       "      <td>190.000000</td>\n",
       "      <td>95.000000</td>\n",
       "      <td>36.000000</td>\n",
       "      <td>3.000000</td>\n",
       "    </tr>\n",
       "    <tr>\n",
       "      <th>max</th>\n",
       "      <td>199.000000</td>\n",
       "      <td>110.000000</td>\n",
       "      <td>67.000000</td>\n",
       "      <td>6.000000</td>\n",
       "    </tr>\n",
       "  </tbody>\n",
       "</table>\n",
       "</div>"
      ],
      "text/plain": [
       "             Height        Weight           Age  Number of Treks\n",
       "count  10000.000000  10000.000000  10000.000000     10000.000000\n",
       "mean     179.644300     79.925400     29.659600         1.237600\n",
       "std       11.548667     17.508566      9.394315         1.453533\n",
       "min      160.000000     50.000000     10.000000         0.000000\n",
       "25%      170.000000     65.000000     23.000000         0.000000\n",
       "50%      180.000000     80.000000     29.000000         0.000000\n",
       "75%      190.000000     95.000000     36.000000         3.000000\n",
       "max      199.000000    110.000000     67.000000         6.000000"
      ]
     },
     "execution_count": 6,
     "metadata": {},
     "output_type": "execute_result"
    }
   ],
   "source": [
    "trekkers_df.describe()"
   ]
  },
  {
   "cell_type": "code",
   "execution_count": 7,
   "metadata": {
    "colab": {
     "base_uri": "https://localhost:8080/",
     "height": 17
    },
    "id": "Ij6E01aI-HFZ",
    "outputId": "6b687219-405f-46be-90cd-d8e368de8c56"
   },
   "outputs": [
    {
     "name": "stdout",
     "output_type": "stream",
     "text": [
      "<class 'pandas.core.frame.DataFrame'>\n",
      "RangeIndex: 10000 entries, 0 to 9999\n",
      "Data columns (total 15 columns):\n",
      " #   Column                  Non-Null Count  Dtype \n",
      "---  ------                  --------------  ----- \n",
      " 0   Email-ID                10000 non-null  object\n",
      " 1   Name                    10000 non-null  object\n",
      " 2   Height                  10000 non-null  int64 \n",
      " 3   Weight                  10000 non-null  int64 \n",
      " 4   Age                     10000 non-null  int64 \n",
      " 5   Gender                  10000 non-null  object\n",
      " 6   City                    10000 non-null  object\n",
      " 7   Locality                10000 non-null  object\n",
      " 8   Languages               10000 non-null  object\n",
      " 9   college                 10000 non-null  object\n",
      " 10  Profession              10000 non-null  object\n",
      " 11  Have you gone Trekking  10000 non-null  object\n",
      " 12  Preferred Days          10000 non-null  object\n",
      " 13  Number of Treks         10000 non-null  int64 \n",
      " 14  Difficulty of Trek      10000 non-null  object\n",
      "dtypes: int64(4), object(11)\n",
      "memory usage: 1.1+ MB\n"
     ]
    }
   ],
   "source": [
    "trekkers_df.info()"
   ]
  },
  {
   "cell_type": "code",
   "execution_count": 8,
   "metadata": {},
   "outputs": [],
   "source": [
    "trekkers_df.to_csv('../Data/trekkers_df.csv', index=False)"
   ]
  },
  {
   "cell_type": "code",
   "execution_count": null,
   "metadata": {},
   "outputs": [],
   "source": []
  }
 ],
 "metadata": {
  "colab": {
   "provenance": []
  },
  "kernelspec": {
   "display_name": "Python 3.10.7 64-bit",
   "language": "python",
   "name": "python3"
  },
  "language_info": {
   "codemirror_mode": {
    "name": "ipython",
    "version": 3
   },
   "file_extension": ".py",
   "mimetype": "text/x-python",
   "name": "python",
   "nbconvert_exporter": "python",
   "pygments_lexer": "ipython3",
   "version": "3.10.7"
  },
  "vscode": {
   "interpreter": {
    "hash": "e7370f93d1d0cde622a1f8e1c04877d8463912d04d973331ad4851f04de6915a"
   }
  }
 },
 "nbformat": 4,
 "nbformat_minor": 0
}
