{
 "nbformat": 4,
 "nbformat_minor": 0,
 "metadata": {
  "colab": {
   "provenance": []
  },
  "kernelspec": {
   "name": "python3",
   "display_name": "Python 3"
  },
  "language_info": {
   "name": "python"
  }
 },
 "cells": [
  {
   "cell_type": "code",
   "execution_count": 1,
   "metadata": {
    "colab": {
     "base_uri": "https://localhost:8080/"
    },
    "id": "fVaN1gNM9NQ-",
    "outputId": "c5675814-9e21-46cf-b5d4-15bd9ce21de5"
   },
   "outputs": [
    {
     "name": "stdout",
     "output_type": "stream",
     "text": [
      "Collecting Faker\r\n",
      "  Downloading Faker-15.1.1-py3-none-any.whl (1.6 MB)\r\n",
      "\u001B[K     |████████████████████████████████| 1.6 MB 667 kB/s eta 0:00:01\r\n",
      "\u001B[?25hRequirement already satisfied: python-dateutil>=2.4 in /opt/anaconda3/lib/python3.9/site-packages (from Faker) (2.8.2)\r\n",
      "Requirement already satisfied: six>=1.5 in /opt/anaconda3/lib/python3.9/site-packages (from python-dateutil>=2.4->Faker) (1.16.0)\r\n",
      "Installing collected packages: Faker\r\n",
      "Successfully installed Faker-15.1.1\r\n"
     ]
    }
   ],
   "source": [
    "!pip install Faker\n",
    "from faker import Faker\n",
    "import random\n",
    "import pandas as pd\n",
    "from random import randrange\n",
    "from datetime import datetime\n",
    "# from google.colab import files"
   ]
  },
  {
   "cell_type": "code",
   "source": [
    "nr_of_trekkers = 10000\n",
    "# time-stamp\n",
    "# email, name, height, weight, age, gender, city, locality\n",
    "# languages, college\n",
    "# working profession, have you gone trekking\n",
    "# preference of trek days\n",
    "# no. of previous treks\n",
    "# list of treks done\n",
    "# difficulty of trek\n",
    "# preferred location of trek\n",
    "# food preferences\n",
    "\n",
    "fake = Faker('de_DE')\n",
    "\n",
    "trekkers = []"
   ],
   "metadata": {
    "id": "A2WjKxFt9WnE"
   },
   "execution_count": 2,
   "outputs": []
  },
  {
   "cell_type": "code",
   "source": [
    "\n",
    "for customers_id in range(nr_of_trekkers):\n",
    "    # creating time-stamp:\n",
    "    d1 = datetime.strptime(f'1/1/2021', '%m/%d/%Y')\n",
    "    d2 = datetime.strptime(f'12/31/2022', '%m/%d/%Y')\n",
    "    transaction_date = fake.date_between(d1, d2)\n",
    "    # create email:\n",
    "    email = fake.ascii_email()\n",
    "    # create trekkers name:\n",
    "    name = fake.name()\n",
    "    # create height:\n",
    "    height = fake.random_int(160, 199)\n",
    "    # create weight:\n",
    "    weight = fake.random_int(50, 110)\n",
    "    # create age:\n",
    "    age = fake.random_int(0, 100)\n",
    "    # create gender:\n",
    "    gender = random.choice([\"M\", \"F\", \"None\"])\n",
    "    # create city:\n",
    "    city = random.choice([\"Pune\", \"Mumbai\", \"Nashik\", \"Kolhapur\", \"Nagpur\", \"Ahemdnagar\", \"Aurangabad\", \"Solapur\", \"Kolhapur\", \"Malvan\",    \"Thane\", \"Panvel\", \"Satara\", \"Pandharpur\", \"Beed\", \"Usmanabad\", \"Nanded\", \"Latur\"])\n",
    "    # create locality:\n",
    "    locality = random.choice([\"Sky-One\", \"Krishna Kamal\", \"Midori Towers\", \"24K-KPS\", \"Krishna Park\", \"Evergreen Society\", \"Kolte Patil Life Republic\", \"Godrej Nurture\", \"Vascon Forest County\", \"Marvel Zephyr\", \"Kumar Megapolis Mystic\"])\n",
    "    # create languages:\n",
    "    languages = random.choice([\"English\", \"Marathi\", \"Hindi\", \"Gujarati\", \"Urdu\", \"Tamil\", \"Telugu\", \"Malayalam\", \"German\", \"Spanish\"])\n",
    "    # create college:\n",
    "    college = random.choice([\"MIT-WPU\", \"SPPU\", \"MIT-ADT\", \"PCCOE\", \"PICT\", \"VIT\", \"Fergusson College\", \"Symbiosis Institute of Media and Communication\", \"Dr. D. Y. Patil Vidyapeeth - [DPU]\", \"Mahatma Phule Krishi Vidyapeeth\", \"Poona College of Pharmacy\", \"BMCC Pune\"])\n",
    "    # create profession:\n",
    "    profession = random.choice([\"accountant\",\"actor\",\"air traffic controller\",\"architect\",\"artist\",\"attorney\",\"banker\",\n",
    "                                    \"bartender\",\"barber\",\"bookkeeper\",\"builder\",\"businessman\",\"businessperson\",\"butcher\",\"carpenter\",\n",
    "                              \"cashier\",\"chef\",\"coach\",\"dental hygienist\",\"dentist\",\"designer\",\"developer\",\"dietician\",\"doctor\",\"economist\",\"editor\",\n",
    "                              \"electrician\",\"engineer\",\"farmer\",\"fisherman\",\"flight attendant\",\"jeweler\",\"judge\",\"lawyer\",\"mechanic\",\n",
    "                              \"musician\",\"nutritionist\",\"nurse\",\"optician\",\"painter\",\"pharmacist\",\"photographer\",\"physician\",\"pilot\",\n",
    "                              \"plumber\",\"policeofficer\",  \"politician\",\"professor\",\"programmer\",\"psychologist\",\"receptionist\",\"salesman\",\n",
    "                              \"salesperson\",\"secretary\",\"singer\",\"surgeon\"\"teacher\",\"therapist\",\"translator\",\"translator\",\"undertaker\",\n",
    "                              \"veterinarian\",\"videographer\",\"waiter\",\"writer\",\"Professors\",\"Teachers\",\"Actors\",\"Clergy\",\"Musicians\",\n",
    "                              \"Philosophers\",\"Visual Artists\",\"Writers\",\"Audiologists\",\"Chiropractors\",\"Dentists\",\"Dietitians\",\"Doctors\",\n",
    "                              \"Medical Laboratory Scientists\",\"Midwives\",\"Nurses\",\"Occupationaltherapists\",\"Optometrists\",\"Pathologists\",\n",
    "                              \"Pharmacists\",\"Physicaltherapists\",\"Physicians\",\"Psychologists\",\"Speechlanguagepathologists\",\"Accountants\",\n",
    "                              \"Actuaries\",\"Agriculturists\",\"Architects\",\"Economists\",\"Engineers\",\"Interpreters\",\"Attorney\",\"Advocates\",\n",
    "                              \"Solicitors\",\"Librarians\",\"Statisticians\",\"Surveyors\",\"Urbanplanners\",\"Humanresources\",\"Firefighters\",\"Judges\",\n",
    "                              \"Militaryofficers\",\"Policeofficers\",\"Airtrafficcontrollers\",\"Aircraftpilots\",\"Seacaptains\",\"Scientists\",\n",
    "                              \"Astronomers\",\"Biologists\",\"Botanists\",\"Ecologists\",\"Geneticists\",\"Immunologists\",\"Pharmacologists\",\"Virologists\",\n",
    "                              \"Zoologists\",\"Chemists\",\"Geologists\",\"Meteorologists\",\"Oceanographers\",\"Physicists\",\"Programmers\",\"Webdevelopers\",\n",
    "                              \"Designers\",\"Graphicdesigners\",\"Webdesigners\",\"Physicians\",\"surgeons\",\"Dentists\",\"Veterinarians\",\"Pharmacists\",\n",
    "                              \"Chiropractors\",\"Osteopaths\",\"Optometrists\",\"Opticians\",\"RegisteredNurses\",\"Licensedpracticalnurses\",\"Dieticians\",\n",
    "                              \"Physicaltherapists\",\"Occupationaltherapists\",\"Dentalhygienists\",\"Clinicallabtechnicians\",\"EMTspecialist\",\"Speechpathologists\",\n",
    "                              \"Physicianassistants\",\"Paramedics\"])\n",
    "    # create YES/NO:\n",
    "    gone_trekking = random.choice([\"Y\", \"N\"])\n",
    "    # create preference of trek days:\n",
    "    preferred_days = random.choice([\"Friday\", \"Saturday\", \"Sunday\", \"Monday\"])\n",
    "    # create no. of treks done:\n",
    "    num_treks = fake.random_int(0, 20)\n",
    "    # list of treks done:\n",
    "    prev_treks = random.choice([\"Lingana Fort journey\", \"Alang, Madan, Kulang Fort Trek \", \" Salher Fort Trek \", \"Harishchandragad Trek \"\n",
    "                                ,\"Dhak Bahiri Caves Trek\", \"Tailbaila Trek-Pune \", \"Kalavantin Durg Trek \", \"Kalsubai Peak Trek\",\n",
    "                                \"Dhodap Fort Trek \", \" Harihar Fort Trek \", \"Jivdhan Fort Trek \", \"Bhairavgad Trek \", \"Rajgad Trek \",\n",
    "                                \"Vasota Jungle Trek\"])\n",
    "    # difficulty of treks:\n",
    "    difficulty_trek = random.choice([\"Beginner\", \"Intermediate\", \"Experienced\"])\n",
    "    # preferred location of treks:\n",
    "\n",
    "    # food choice:\n",
    "    food_choice = random.choice([\"Non-Veg\", \"Veg\", \"Vegan\"])\n",
    "\n",
    "\n",
    "    trekkers.append([email, name, height, weight, age, gender, city, locality, languages, college, profession,\n",
    "                     gone_trekking, preferred_days, num_treks, difficulty_trek])"
   ],
   "metadata": {
    "id": "hVv1LZqW9Z-B"
   },
   "execution_count": 3,
   "outputs": []
  },
  {
   "cell_type": "code",
   "source": [
    "\n",
    "trekkers_df = pd.DataFrame(trekkers, columns=['Email-ID', 'Name', 'Height', 'Weight', 'Age', 'Gender', 'City', 'Locality',\n",
    "                                               'Languages', 'college', 'Profession', 'Have you gone Trekking', 'Preferred Days',\n",
    "                                               'Number of Treks', 'Difficulty of Trek'])\n",
    "\n",
    "pd.pandas.set_option('display.max_columns', None)\n",
    "print(trekkers_df)\n"
   ],
   "metadata": {
    "colab": {
     "base_uri": "https://localhost:8080/"
    },
    "id": "mShF0icQ9dBG",
    "outputId": "2f848bea-ce4c-4dbc-cb27-b2797e35d5ca"
   },
   "execution_count": 4,
   "outputs": [
    {
     "name": "stdout",
     "output_type": "stream",
     "text": [
      "                          Email-ID                       Name  Height  Weight  \\\n",
      "0              qbutte@lachmann.com  Prof. Daniel Sölzer B.Sc.     199      61   \n",
      "1                 dennis41@koch.de       Gunda Hornich-Albers     193      87   \n",
      "2     drewesrosalie@googlemail.com            Birthe Rörricht     172      88   \n",
      "3               halbers@fischer.de     Viviane Patberg B.Eng.     190      70   \n",
      "4        hans-rainermetz@noack.org             Alban Beckmann     166     106   \n",
      "...                            ...                        ...     ...     ...   \n",
      "9995          kkrebs@ackermann.org         Hans-Dietrich Wulf     170     109   \n",
      "9996          giovannadoerr@aol.de                  Suse Trüb     169      83   \n",
      "9997          torsten45@hotmail.de               Ismail Hübel     178      97   \n",
      "9998     hettnerangelo@schwital.de         Arnulf Ladeck MBA.     190     110   \n",
      "9999       scholtzsigrun@gmail.com          Cemal Renner-Mans     161      93   \n",
      "\n",
      "      Age Gender       City                   Locality  Languages  \\\n",
      "0      94   None   Kolhapur              Midori Towers    English   \n",
      "1      21      F  Usmanabad  Kolte Patil Life Republic    Spanish   \n",
      "2      32      F       Pune       Vascon Forest County    English   \n",
      "3      46      M     Satara               Krishna Park    Marathi   \n",
      "4     100   None     Panvel             Godrej Nurture     German   \n",
      "...   ...    ...        ...                        ...        ...   \n",
      "9995   73      F     Malvan                    24K-KPS    English   \n",
      "9996   21   None     Satara              Midori Towers  Malayalam   \n",
      "9997   34   None     Panvel     Kumar Megapolis Mystic    English   \n",
      "9998   73      F     Nanded             Godrej Nurture     Telugu   \n",
      "9999   34      M     Nashik          Evergreen Society    Spanish   \n",
      "\n",
      "                                             college           Profession  \\\n",
      "0                                            MIT-WPU   Speechpathologists   \n",
      "1                                               PICT         Audiologists   \n",
      "2                          Poona College of Pharmacy           Scientists   \n",
      "3     Symbiosis Institute of Media and Communication     RegisteredNurses   \n",
      "4                                  Fergusson College         veterinarian   \n",
      "...                                              ...                  ...   \n",
      "9995                                             VIT               Nurses   \n",
      "9996                                       BMCC Pune  Physicianassistants   \n",
      "9997                 Mahatma Phule Krishi Vidyapeeth                nurse   \n",
      "9998              Dr. D. Y. Patil Vidyapeeth - [DPU]           Architects   \n",
      "9999              Dr. D. Y. Patil Vidyapeeth - [DPU]            developer   \n",
      "\n",
      "     Have you gone Trekking Preferred Days  Number of Treks Difficulty of Trek  \n",
      "0                         N         Sunday                8        Experienced  \n",
      "1                         N         Friday                1        Experienced  \n",
      "2                         Y         Monday               15        Experienced  \n",
      "3                         N         Monday                1           Beginner  \n",
      "4                         Y       Saturday               18           Beginner  \n",
      "...                     ...            ...              ...                ...  \n",
      "9995                      Y         Friday                2       Intermediate  \n",
      "9996                      Y       Saturday                4        Experienced  \n",
      "9997                      Y       Saturday                4       Intermediate  \n",
      "9998                      Y         Friday                5           Beginner  \n",
      "9999                      N         Sunday                5        Experienced  \n",
      "\n",
      "[10000 rows x 15 columns]\n"
     ]
    }
   ]
  },
  {
   "cell_type": "code",
   "source": [
    "from google.colab import drive\n",
    "drive.mount('/content/drive')"
   ],
   "metadata": {
    "id": "zqMbZZed_6cu"
   },
   "execution_count": null,
   "outputs": []
  },
  {
   "cell_type": "code",
   "source": [
    "trekkers_df.to_csv('trekkers_df.csv')\n",
    "# files.download('trekkers_df.csv')"
   ],
   "metadata": {
    "colab": {
     "base_uri": "https://localhost:8080/",
     "height": 17
    },
    "id": "tUQCbM5e9wY5",
    "outputId": "35f0b5c4-9dbf-44be-9596-7682d48e3474"
   },
   "execution_count": null,
   "outputs": [
    {
     "output_type": "display_data",
     "data": {
      "text/plain": [
       "<IPython.core.display.Javascript object>"
      ],
      "application/javascript": [
       "\n",
       "    async function download(id, filename, size) {\n",
       "      if (!google.colab.kernel.accessAllowed) {\n",
       "        return;\n",
       "      }\n",
       "      const div = document.createElement('div');\n",
       "      const label = document.createElement('label');\n",
       "      label.textContent = `Downloading \"${filename}\": `;\n",
       "      div.appendChild(label);\n",
       "      const progress = document.createElement('progress');\n",
       "      progress.max = size;\n",
       "      div.appendChild(progress);\n",
       "      document.body.appendChild(div);\n",
       "\n",
       "      const buffers = [];\n",
       "      let downloaded = 0;\n",
       "\n",
       "      const channel = await google.colab.kernel.comms.open(id);\n",
       "      // Send a message to notify the kernel that we're ready.\n",
       "      channel.send({})\n",
       "\n",
       "      for await (const message of channel.messages) {\n",
       "        // Send a message to notify the kernel that we're ready.\n",
       "        channel.send({})\n",
       "        if (message.buffers) {\n",
       "          for (const buffer of message.buffers) {\n",
       "            buffers.push(buffer);\n",
       "            downloaded += buffer.byteLength;\n",
       "            progress.value = downloaded;\n",
       "          }\n",
       "        }\n",
       "      }\n",
       "      const blob = new Blob(buffers, {type: 'application/binary'});\n",
       "      const a = document.createElement('a');\n",
       "      a.href = window.URL.createObjectURL(blob);\n",
       "      a.download = filename;\n",
       "      div.appendChild(a);\n",
       "      a.click();\n",
       "      div.remove();\n",
       "    }\n",
       "  "
      ]
     },
     "metadata": {}
    },
    {
     "output_type": "display_data",
     "data": {
      "text/plain": [
       "<IPython.core.display.Javascript object>"
      ],
      "application/javascript": [
       "download(\"download_65c8d98f-0c83-4777-8e72-05b8e200d53b\", \"trekkers_df.csv\", 1275262)"
      ]
     },
     "metadata": {}
    }
   ]
  },
  {
   "cell_type": "code",
   "execution_count": 5,
   "outputs": [],
   "source": [
    "trekkers_df.to_csv(\"/Users/yash/PycharmProject/Group-Reccommendation-For-Trek-Using-Social-Networks/Data/trekkers_new_df.csv\")"
   ],
   "metadata": {
    "collapsed": false
   }
  },
  {
   "cell_type": "code",
   "source": [
    "trekkers_df.to_excel('trekkers_df_ex.xlsx')\n",
    "# files.download('trekkers_df_ex.xlsx')\n"
   ],
   "metadata": {
    "colab": {
     "base_uri": "https://localhost:8080/",
     "height": 17
    },
    "id": "Ij6E01aI-HFZ",
    "outputId": "6b687219-405f-46be-90cd-d8e368de8c56"
   },
   "execution_count": 6,
   "outputs": []
  },
  {
   "cell_type": "code",
   "execution_count": null,
   "outputs": [],
   "source": [],
   "metadata": {
    "collapsed": false
   }
  }
 ]
}
