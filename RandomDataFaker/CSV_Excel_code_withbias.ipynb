{
 "cells": [
  {
   "cell_type": "code",
   "execution_count": 9,
   "metadata": {
    "colab": {
     "base_uri": "https://localhost:8080/"
    },
    "id": "fVaN1gNM9NQ-",
    "outputId": "c5675814-9e21-46cf-b5d4-15bd9ce21de5"
   },
   "outputs": [],
   "source": [
    "from faker import Faker\n",
    "import random\n",
    "import pandas as pd\n",
    "from random import randrange\n",
    "from datetime import datetime\n",
    "import numpy as np"
   ]
  },
  {
   "cell_type": "code",
   "execution_count": 10,
   "metadata": {
    "id": "A2WjKxFt9WnE"
   },
   "outputs": [],
   "source": [
    "nr_of_trekkers = 10000\n",
    "# time-stamp\n",
    "# email, name, height, weight, age, gender, city, locality\n",
    "# languages, college\n",
    "# working profession, have you gone trekking\n",
    "# preference of trek days\n",
    "# no. of previous treks\n",
    "# list of treks done\n",
    "# difficulty of trek\n",
    "# preferred location of trek\n",
    "# food preferences\n",
    "\n",
    "fake = Faker('de_DE')\n",
    "\n",
    "trekkers = []"
   ]
  },
  {
   "cell_type": "code",
   "execution_count": 11,
   "metadata": {
    "id": "hVv1LZqW9Z-B"
   },
   "outputs": [],
   "source": [
    "# generate a list of ages between 18 and 80 years old, with 1000 entries following a normal distribution\n",
    "ages = np.random.normal(30, 10, nr_of_trekkers).astype(int)\n",
    "# generate a list of number of previous treks between 0 and 10, with 1000 entries following a normal distribution\n",
    "previous_treks = np.random.normal(3, 1, nr_of_trekkers).astype(int)\n",
    "\n",
    "localities = {\n",
    "    \"Pune\":  [\n",
    "        \"Kothrud\", \"Nal Stop\", \"Aundh\", \"Pimpri\", \"Shivaji Nagar\"\n",
    "    ], # list of localities random \n",
    "    \"Mumbai\": [\n",
    "        \"Bandra\", \"Andheri\", \"Borivali\", \"Ghatkopar\", \"Kandivali\"\n",
    "    ],\n",
    "    \"Nashik\": [\n",
    "        \"Satpur\", \"Ambad\", \"Panchavati\", \"Sadar\", \"Gangapur\"\n",
    "    ],\n",
    "    \"Kolhapur\": [\n",
    "        \"Kagal\", \"Tarabai Park\", \"Kasaba Bawada\", \"D Ward\", \"Gadhinglaj\"\n",
    "    ],\n",
    "    \"Nagpur\": [\n",
    "        \"Kamptee\", \"Bank Colony\", \"Kalameshwar\", \"Reshim Bagh\", \"Koradi Road\"\n",
    "    ]\n",
    "}\n",
    "\n",
    "# list of bias for each city \n",
    "#  pune 50% , mumbai 20%, nashik 10%, kolhapur 10%, nagpur 10%\n",
    "city_bias = [0.5, 0.2, 0.1, 0.1, 0.1]\n",
    "\n",
    "\n",
    "\n",
    "\n",
    "\n",
    "for customers_id in range(nr_of_trekkers):\n",
    "    # creating time-stamp:\n",
    "    d1 = datetime.strptime(f'1/1/2021', '%m/%d/%Y')\n",
    "    d2 = datetime.strptime(f'12/31/2022', '%m/%d/%Y')\n",
    "    transaction_date = fake.date_between(d1, d2)\n",
    "    # create email:\n",
    "    email = fake.ascii_email()\n",
    "    # create trekkers name:\n",
    "    name = fake.name()\n",
    "\n",
    "    # create height:\n",
    "    # height should be between 150 and 200 cm with a skewed towards 160cm\n",
    "    height = np.random.normal(160, 10, 1).astype(int)\n",
    "    # create weight:\n",
    "    # weight should be between 50 and 100 kg with a skewed towards 70kg\n",
    "    weight = np.random.normal(70, 10, 1).astype(int)\n",
    "\n",
    "\n",
    "\n",
    "    # create age:\n",
    "    age = ages[customers_id]\n",
    "    if age < 10:\n",
    "        age = 30-age\n",
    "    \n",
    "    # create gender:\n",
    "    # 60% male, 40% female\n",
    "\n",
    "    gender = np.random.choice([\"Male\",\"Female\"], p=[0.6, 0.4])\n",
    "\n",
    "    # create city:\n",
    "    city = np.random.choice([\"Pune\", \"Mumbai\", \"Nashik\", \"Kolhapur\", \"Nagpur\"], p=city_bias)\n",
    "    # create locality:\n",
    "\n",
    "    locality = np.random.choice(localities[city])\n",
    "\n",
    "    # choose max 3 min 1 languages\n",
    "    # 80% Marathi, 50% Hindi, 40% English, 15% other\n",
    "    languages = np.random.choice([\"Marathi\", \"Hindi\", \"English\", \"Other\"], p=[0.55, 0.25, 0.1, 0.1], size=random.randint(1,3), replace=False)\n",
    "    # create college:\n",
    "    college = np.random.choice([\"MIT-WPU\", \"SPPU\", \"MIT-ADT\", \"PCCOE\", \"PICT\", \"VIT\"])\n",
    "    # create profession:\n",
    "    # 80% student, 10% working, 10% unemployed\n",
    "    profession = np.random.choice([\"Student\", \"Working\", \"Unemployed\"], p=[0.8, 0.1, 0.1])\n",
    "    # create trekking experience:\n",
    "    # 70% yes, 30% no\n",
    "    # create YES/NO:\n",
    "    # create preference of trek days:\n",
    "    gone_trekking = np.random.choice([\"Y\", \"N\"], p=[0.7, 0.3])\n",
    "    if gone_trekking == \"Y\":\n",
    "        num_treks = previous_treks[customers_id]\n",
    "    else:\n",
    "        num_treks = 0\n",
    "\n",
    "    # preference of trek days monday to sunday, min 1 max 7\n",
    "    preferred_days = np.random.choice([\"Monday\", \"Tuesday\", \"Wednesday\", \"Thursday\", \"Friday\", \"Saturday\", \"Sunday\"], size=np.random.randint(1, 7), p=[0.1, 0.01, 0.03, 0.01, 0.2, 0.3, 0.35], replace=False)\n",
    "    # list of treks done:\n",
    "   # prev_treks = random.choice()\n",
    "    # difficulty of treks:\n",
    "    difficulty_trek = np.random.choice([\"Beginner\", \"Intermediate\", \"Experienced\"])\n",
    "    # preferred location of treks:\n",
    "\n",
    "    # food choice:\n",
    "    food_choice = np.random.choice([\"Non-Veg\", \"Veg\", \"Vegan\"])\n",
    "\n",
    "\n",
    "    trekkers.append([email, name, height, weight,age, gender, city, locality, languages, college, profession,\n",
    "                     gone_trekking, preferred_days, num_treks, difficulty_trek])\n",
    "\n",
    "\n"
   ]
  },
  {
   "cell_type": "code",
   "execution_count": 12,
   "metadata": {
    "colab": {
     "base_uri": "https://localhost:8080/"
    },
    "id": "mShF0icQ9dBG",
    "outputId": "2f848bea-ce4c-4dbc-cb27-b2797e35d5ca"
   },
   "outputs": [
    {
     "name": "stdout",
     "output_type": "stream",
     "text": [
      "                        Email-ID                       Name Height Weight  \\\n",
      "0         ullmannmax@schleich.de         Karlheinz Hoffmann  [142]   [73]   \n",
      "1     etzoldgiorgio@steinberg.de               Hella Biggen  [151]   [65]   \n",
      "2     benjamin50@ditschlerin.net               Pero Weitzel  [151]   [73]   \n",
      "3       hans-guenter35@gmail.com                Ahmed Krein  [157]   [81]   \n",
      "4          ivoboerner@hotmail.de           Wladimir Hofmann  [166]   [76]   \n",
      "...                          ...                        ...    ...    ...   \n",
      "9995        ndrubin@heinrich.net     Antoinette Mühle-Gertz  [169]   [79]   \n",
      "9996           edit32@heuser.com          Sven Preiß B.Eng.  [147]   [67]   \n",
      "9997    miesernst-otto@gmail.com  Prof. Meinrad Beier B.Sc.  [143]   [69]   \n",
      "9998   ullrichrosenow@hoerle.org    Dr. Reginald Säuberlich  [152]   [77]   \n",
      "9999        nurten99@niemeier.de                  Etta Dörr  [163]   [75]   \n",
      "\n",
      "      Age  Gender      City       Locality                  Languages  \\\n",
      "0      35    Male  Kolhapur         D Ward  [Marathi, Other, English]   \n",
      "1      32    Male    Nagpur        Kamptee                    [Hindi]   \n",
      "2      34    Male    Mumbai        Andheri           [Marathi, Hindi]   \n",
      "3      25    Male    Mumbai        Andheri           [Hindi, English]   \n",
      "4      30    Male    Mumbai       Borivali                  [Marathi]   \n",
      "...   ...     ...       ...            ...                        ...   \n",
      "9995   31    Male      Pune         Pimpri  [Marathi, Hindi, English]   \n",
      "9996   20  Female      Pune       Nal Stop           [Marathi, Hindi]   \n",
      "9997   46  Female      Pune        Kothrud                    [Hindi]   \n",
      "9998   48  Female    Nagpur    Bank Colony                    [Hindi]   \n",
      "9999   42    Male  Kolhapur  Kasaba Bawada  [Marathi, Hindi, English]   \n",
      "\n",
      "      college  Profession Have you gone Trekking  \\\n",
      "0     MIT-WPU     Working                      Y   \n",
      "1       PCCOE     Working                      N   \n",
      "2     MIT-WPU     Student                      N   \n",
      "3     MIT-WPU     Student                      N   \n",
      "4     MIT-ADT     Working                      N   \n",
      "...       ...         ...                    ...   \n",
      "9995     PICT     Student                      Y   \n",
      "9996    PCCOE  Unemployed                      Y   \n",
      "9997    PCCOE  Unemployed                      Y   \n",
      "9998     SPPU     Student                      Y   \n",
      "9999     PICT     Student                      Y   \n",
      "\n",
      "                                         Preferred Days  Number of Treks  \\\n",
      "0     [Sunday, Saturday, Monday, Friday, Wednesday, ...                3   \n",
      "1                            [Friday, Sunday, Thursday]                0   \n",
      "2                 [Friday, Sunday, Saturday, Wednesday]                0   \n",
      "3                                      [Friday, Monday]                0   \n",
      "4                            [Friday, Saturday, Sunday]                0   \n",
      "...                                                 ...              ...   \n",
      "9995                         [Sunday, Friday, Saturday]                3   \n",
      "9996                                   [Friday, Sunday]                3   \n",
      "9997                 [Saturday, Sunday, Monday, Friday]                1   \n",
      "9998                         [Monday, Friday, Saturday]                1   \n",
      "9999  [Friday, Saturday, Monday, Wednesday, Sunday, ...                4   \n",
      "\n",
      "     Difficulty of Trek  \n",
      "0              Beginner  \n",
      "1           Experienced  \n",
      "2          Intermediate  \n",
      "3          Intermediate  \n",
      "4              Beginner  \n",
      "...                 ...  \n",
      "9995           Beginner  \n",
      "9996       Intermediate  \n",
      "9997        Experienced  \n",
      "9998        Experienced  \n",
      "9999        Experienced  \n",
      "\n",
      "[10000 rows x 15 columns]\n"
     ]
    }
   ],
   "source": [
    "\n",
    "trekkers_df = pd.DataFrame(trekkers, columns=['Email-ID', 'Name', 'Height', 'Weight', 'Age', 'Gender', 'City', 'Locality',\n",
    "                                               'Languages', 'college', 'Profession', 'Have you gone Trekking', 'Preferred Days',\n",
    "                                               'Number of Treks', 'Difficulty of Trek'])\n",
    "\n",
    "pd.pandas.set_option('display.max_columns', None)\n",
    "print(trekkers_df)"
   ]
  },
  {
   "cell_type": "code",
   "execution_count": 13,
   "metadata": {
    "id": "zqMbZZed_6cu"
   },
   "outputs": [
    {
     "data": {
      "text/plain": [
       "<AxesSubplot:>"
      ]
     },
     "execution_count": 13,
     "metadata": {},
     "output_type": "execute_result"
    },
    {
     "data": {
      "image/png": "[encoded data removed]",
      "text/plain": [
       "<Figure size 432x288 with 1 Axes>"
      ]
     },
     "metadata": {
      "needs_background": "light"
     },
     "output_type": "display_data"
    }
   ],
   "source": [
    "trekkers_df[\"Age\"].value_counts().sort_index().plot(kind=\"line\")"
   ]
  },
  {
   "cell_type": "code",
   "execution_count": 14,
   "metadata": {
    "colab": {
     "base_uri": "https://localhost:8080/",
     "height": 17
    },
    "id": "tUQCbM5e9wY5",
    "outputId": "35f0b5c4-9dbf-44be-9596-7682d48e3474"
   },
   "outputs": [
    {
     "data": {
      "text/html": [
       "<div>\n",
       "<style scoped>\n",
       "    .dataframe tbody tr th:only-of-type {\n",
       "        vertical-align: middle;\n",
       "    }\n",
       "\n",
       "    .dataframe tbody tr th {\n",
       "        vertical-align: top;\n",
       "    }\n",
       "\n",
       "    .dataframe thead th {\n",
       "        text-align: right;\n",
       "    }\n",
       "</style>\n",
       "<table border=\"1\" class=\"dataframe\">\n",
       "  <thead>\n",
       "    <tr style=\"text-align: right;\">\n",
       "      <th></th>\n",
       "      <th>Age</th>\n",
       "      <th>Number of Treks</th>\n",
       "    </tr>\n",
       "  </thead>\n",
       "  <tbody>\n",
       "    <tr>\n",
       "      <th>count</th>\n",
       "      <td>10000.000000</td>\n",
       "      <td>10000.000000</td>\n",
       "    </tr>\n",
       "    <tr>\n",
       "      <th>mean</th>\n",
       "      <td>30.012400</td>\n",
       "      <td>1.779400</td>\n",
       "    </tr>\n",
       "    <tr>\n",
       "      <th>std</th>\n",
       "      <td>9.351705</td>\n",
       "      <td>1.442409</td>\n",
       "    </tr>\n",
       "    <tr>\n",
       "      <th>min</th>\n",
       "      <td>10.000000</td>\n",
       "      <td>0.000000</td>\n",
       "    </tr>\n",
       "    <tr>\n",
       "      <th>25%</th>\n",
       "      <td>23.000000</td>\n",
       "      <td>0.000000</td>\n",
       "    </tr>\n",
       "    <tr>\n",
       "      <th>50%</th>\n",
       "      <td>30.000000</td>\n",
       "      <td>2.000000</td>\n",
       "    </tr>\n",
       "    <tr>\n",
       "      <th>75%</th>\n",
       "      <td>36.000000</td>\n",
       "      <td>3.000000</td>\n",
       "    </tr>\n",
       "    <tr>\n",
       "      <th>max</th>\n",
       "      <td>69.000000</td>\n",
       "      <td>6.000000</td>\n",
       "    </tr>\n",
       "  </tbody>\n",
       "</table>\n",
       "</div>"
      ],
      "text/plain": [
       "                Age  Number of Treks\n",
       "count  10000.000000     10000.000000\n",
       "mean      30.012400         1.779400\n",
       "std        9.351705         1.442409\n",
       "min       10.000000         0.000000\n",
       "25%       23.000000         0.000000\n",
       "50%       30.000000         2.000000\n",
       "75%       36.000000         3.000000\n",
       "max       69.000000         6.000000"
      ]
     },
     "execution_count": 14,
     "metadata": {},
     "output_type": "execute_result"
    }
   ],
   "source": [
    "trekkers_df.describe()"
   ]
  },
  {
   "cell_type": "code",
   "execution_count": 15,
   "metadata": {
    "colab": {
     "base_uri": "https://localhost:8080/",
     "height": 17
    },
    "id": "Ij6E01aI-HFZ",
    "outputId": "6b687219-405f-46be-90cd-d8e368de8c56"
   },
   "outputs": [
    {
     "name": "stdout",
     "output_type": "stream",
     "text": [
      "<class 'pandas.core.frame.DataFrame'>\n",
      "RangeIndex: 10000 entries, 0 to 9999\n",
      "Data columns (total 15 columns):\n",
      " #   Column                  Non-Null Count  Dtype \n",
      "---  ------                  --------------  ----- \n",
      " 0   Email-ID                10000 non-null  object\n",
      " 1   Name                    10000 non-null  object\n",
      " 2   Height                  10000 non-null  object\n",
      " 3   Weight                  10000 non-null  object\n",
      " 4   Age                     10000 non-null  int64 \n",
      " 5   Gender                  10000 non-null  object\n",
      " 6   City                    10000 non-null  object\n",
      " 7   Locality                10000 non-null  object\n",
      " 8   Languages               10000 non-null  object\n",
      " 9   college                 10000 non-null  object\n",
      " 10  Profession              10000 non-null  object\n",
      " 11  Have you gone Trekking  10000 non-null  object\n",
      " 12  Preferred Days          10000 non-null  object\n",
      " 13  Number of Treks         10000 non-null  int64 \n",
      " 14  Difficulty of Trek      10000 non-null  object\n",
      "dtypes: int64(2), object(13)\n",
      "memory usage: 1.1+ MB\n"
     ]
    }
   ],
   "source": [
    "trekkers_df.info()"
   ]
  },
  {
   "cell_type": "code",
   "execution_count": 16,
   "metadata": {},
   "outputs": [],
   "source": [
    "trekkers_df.to_csv('../Data/trekkers_df_with_bias.csv', index=False)"
   ]
  },
  {
   "cell_type": "code",
   "execution_count": null,
   "metadata": {},
   "outputs": [],
   "source": []
  }
 ],
 "metadata": {
  "colab": {
   "provenance": []
  },
  "kernelspec": {
   "display_name": "Python 3.10.7 64-bit",
   "language": "python",
   "name": "python3"
  },
  "language_info": {
   "codemirror_mode": {
    "name": "ipython",
    "version": 3
   },
   "file_extension": ".py",
   "mimetype": "text/x-python",
   "name": "python",
   "nbconvert_exporter": "python",
   "pygments_lexer": "ipython3",
   "version": "3.10.8"
  },
  "vscode": {
   "interpreter": {
    "hash": "e7370f93d1d0cde622a1f8e1c04877d8463912d04d973331ad4851f04de6915a"
   }
  }
 },
 "nbformat": 4,
 "nbformat_minor": 0
}
