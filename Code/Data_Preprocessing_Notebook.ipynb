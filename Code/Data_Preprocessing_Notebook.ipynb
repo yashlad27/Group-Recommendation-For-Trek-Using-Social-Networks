{
 "cells": [
  {
   "cell_type": "markdown",
   "source": [
    "## Preprocessing our dataset before building a machine learning model:"
   ],
   "metadata": {
    "collapsed": false
   }
  },
  {
   "cell_type": "markdown",
   "source": [
    "Standard Imports:"
   ],
   "metadata": {
    "collapsed": false
   }
  },
  {
   "cell_type": "code",
   "execution_count": 1,
   "metadata": {
    "collapsed": true
   },
   "outputs": [],
   "source": [
    "import pandas as pd\n",
    "import numpy as np"
   ]
  },
  {
   "cell_type": "markdown",
   "source": [
    "Importing .csv file using pandas .read_csv function:"
   ],
   "metadata": {
    "collapsed": false
   }
  },
  {
   "cell_type": "code",
   "execution_count": 2,
   "outputs": [
    {
     "data": {
      "text/plain": "      Unnamed: 0                      Email-ID                      Name  \\\n0              0           xalbers@peukert.net      Anatoli Faust-Becker   \n1              1          pieperlambert@gmx.de  Dr. Janina Schomber MBA.   \n2              2      angeliquebutte@martin.de     Belinda Bachmann MBA.   \n3              3       hansjoerg80@ullmann.org       Hans-Rainer Tlustek   \n4              4                  xhein@web.de            Kai-Uwe Wesack   \n...          ...                           ...                       ...   \n9995        9995  spiessbabette@googlemail.com               Josip Naser   \n9996        9996           faruk41@bachmann.de                Hedi Hübel   \n9997        9997            qhess@heydrich.org  Bernd-Dieter Grein Groth   \n9998        9998         useifert@kuehnert.com           Hans-Jürgen Heß   \n9999        9999              lraedel@yahoo.de                Erna Trupp   \n\n      Height  Weight  Age Gender      City           Locality Languages  \\\n0        198      99   77      M    Nagpur  Evergreen Society   Marathi   \n1        162     110   29   None    Nashik      Midori Towers     Hindi   \n2        185      77   91      M    Mumbai      Midori Towers      Urdu   \n3        173     106   36   None      Pune  Evergreen Society   English   \n4        174      67   22      M    Mumbai       Krishna Park   English   \n...      ...     ...  ...    ...       ...                ...       ...   \n9995     181      79   91   None  Kolhapur       Krishna Park      Urdu   \n9996     169      82   97      M    Nagpur      Krishna Kamal  Gujarati   \n9997     183     101   27   None  Kolhapur  Evergreen Society   Marathi   \n9998     162      75   30      M      Pune            Sky-One     Hindi   \n9999     174      99   49   None      Pune  Evergreen Society   English   \n\n      college    Profession Have you gone Trekking Preferred Days  \\\n0        SPPU    Biologists                      N         Monday   \n1        SPPU        lawyer                      Y       Saturday   \n2         VIT     Opticians                      Y         Sunday   \n3        SPPU  Pathologists                      N       Saturday   \n4     MIT-WPU        Actors                      N         Monday   \n...       ...           ...                    ...            ...   \n9995     PICT       builder                      Y         Friday   \n9996     SPPU    Economists                      Y         Monday   \n9997     PICT    Dietitians                      Y       Saturday   \n9998  MIT-ADT       painter                      N         Sunday   \n9999    PCCOE       Writers                      Y         Friday   \n\n      Number of Treks Difficulty of Trek  \n0                  20       Intermediate  \n1                   4        Experienced  \n2                  17        Experienced  \n3                  14       Intermediate  \n4                   7           Beginner  \n...               ...                ...  \n9995               18        Experienced  \n9996               18       Intermediate  \n9997                3           Beginner  \n9998               16       Intermediate  \n9999               14        Experienced  \n\n[10000 rows x 16 columns]",
      "text/html": "<div>\n<style scoped>\n    .dataframe tbody tr th:only-of-type {\n        vertical-align: middle;\n    }\n\n    .dataframe tbody tr th {\n        vertical-align: top;\n    }\n\n    .dataframe thead th {\n        text-align: right;\n    }\n</style>\n<table border=\"1\" class=\"dataframe\">\n  <thead>\n    <tr style=\"text-align: right;\">\n      <th></th>\n      <th>Unnamed: 0</th>\n      <th>Email-ID</th>\n      <th>Name</th>\n      <th>Height</th>\n      <th>Weight</th>\n      <th>Age</th>\n      <th>Gender</th>\n      <th>City</th>\n      <th>Locality</th>\n      <th>Languages</th>\n      <th>college</th>\n      <th>Profession</th>\n      <th>Have you gone Trekking</th>\n      <th>Preferred Days</th>\n      <th>Number of Treks</th>\n      <th>Difficulty of Trek</th>\n    </tr>\n  </thead>\n  <tbody>\n    <tr>\n      <th>0</th>\n      <td>0</td>\n      <td>xalbers@peukert.net</td>\n      <td>Anatoli Faust-Becker</td>\n      <td>198</td>\n      <td>99</td>\n      <td>77</td>\n      <td>M</td>\n      <td>Nagpur</td>\n      <td>Evergreen Society</td>\n      <td>Marathi</td>\n      <td>SPPU</td>\n      <td>Biologists</td>\n      <td>N</td>\n      <td>Monday</td>\n      <td>20</td>\n      <td>Intermediate</td>\n    </tr>\n    <tr>\n      <th>1</th>\n      <td>1</td>\n      <td>pieperlambert@gmx.de</td>\n      <td>Dr. Janina Schomber MBA.</td>\n      <td>162</td>\n      <td>110</td>\n      <td>29</td>\n      <td>None</td>\n      <td>Nashik</td>\n      <td>Midori Towers</td>\n      <td>Hindi</td>\n      <td>SPPU</td>\n      <td>lawyer</td>\n      <td>Y</td>\n      <td>Saturday</td>\n      <td>4</td>\n      <td>Experienced</td>\n    </tr>\n    <tr>\n      <th>2</th>\n      <td>2</td>\n      <td>angeliquebutte@martin.de</td>\n      <td>Belinda Bachmann MBA.</td>\n      <td>185</td>\n      <td>77</td>\n      <td>91</td>\n      <td>M</td>\n      <td>Mumbai</td>\n      <td>Midori Towers</td>\n      <td>Urdu</td>\n      <td>VIT</td>\n      <td>Opticians</td>\n      <td>Y</td>\n      <td>Sunday</td>\n      <td>17</td>\n      <td>Experienced</td>\n    </tr>\n    <tr>\n      <th>3</th>\n      <td>3</td>\n      <td>hansjoerg80@ullmann.org</td>\n      <td>Hans-Rainer Tlustek</td>\n      <td>173</td>\n      <td>106</td>\n      <td>36</td>\n      <td>None</td>\n      <td>Pune</td>\n      <td>Evergreen Society</td>\n      <td>English</td>\n      <td>SPPU</td>\n      <td>Pathologists</td>\n      <td>N</td>\n      <td>Saturday</td>\n      <td>14</td>\n      <td>Intermediate</td>\n    </tr>\n    <tr>\n      <th>4</th>\n      <td>4</td>\n      <td>xhein@web.de</td>\n      <td>Kai-Uwe Wesack</td>\n      <td>174</td>\n      <td>67</td>\n      <td>22</td>\n      <td>M</td>\n      <td>Mumbai</td>\n      <td>Krishna Park</td>\n      <td>English</td>\n      <td>MIT-WPU</td>\n      <td>Actors</td>\n      <td>N</td>\n      <td>Monday</td>\n      <td>7</td>\n      <td>Beginner</td>\n    </tr>\n    <tr>\n      <th>...</th>\n      <td>...</td>\n      <td>...</td>\n      <td>...</td>\n      <td>...</td>\n      <td>...</td>\n      <td>...</td>\n      <td>...</td>\n      <td>...</td>\n      <td>...</td>\n      <td>...</td>\n      <td>...</td>\n      <td>...</td>\n      <td>...</td>\n      <td>...</td>\n      <td>...</td>\n      <td>...</td>\n    </tr>\n    <tr>\n      <th>9995</th>\n      <td>9995</td>\n      <td>spiessbabette@googlemail.com</td>\n      <td>Josip Naser</td>\n      <td>181</td>\n      <td>79</td>\n      <td>91</td>\n      <td>None</td>\n      <td>Kolhapur</td>\n      <td>Krishna Park</td>\n      <td>Urdu</td>\n      <td>PICT</td>\n      <td>builder</td>\n      <td>Y</td>\n      <td>Friday</td>\n      <td>18</td>\n      <td>Experienced</td>\n    </tr>\n    <tr>\n      <th>9996</th>\n      <td>9996</td>\n      <td>faruk41@bachmann.de</td>\n      <td>Hedi Hübel</td>\n      <td>169</td>\n      <td>82</td>\n      <td>97</td>\n      <td>M</td>\n      <td>Nagpur</td>\n      <td>Krishna Kamal</td>\n      <td>Gujarati</td>\n      <td>SPPU</td>\n      <td>Economists</td>\n      <td>Y</td>\n      <td>Monday</td>\n      <td>18</td>\n      <td>Intermediate</td>\n    </tr>\n    <tr>\n      <th>9997</th>\n      <td>9997</td>\n      <td>qhess@heydrich.org</td>\n      <td>Bernd-Dieter Grein Groth</td>\n      <td>183</td>\n      <td>101</td>\n      <td>27</td>\n      <td>None</td>\n      <td>Kolhapur</td>\n      <td>Evergreen Society</td>\n      <td>Marathi</td>\n      <td>PICT</td>\n      <td>Dietitians</td>\n      <td>Y</td>\n      <td>Saturday</td>\n      <td>3</td>\n      <td>Beginner</td>\n    </tr>\n    <tr>\n      <th>9998</th>\n      <td>9998</td>\n      <td>useifert@kuehnert.com</td>\n      <td>Hans-Jürgen Heß</td>\n      <td>162</td>\n      <td>75</td>\n      <td>30</td>\n      <td>M</td>\n      <td>Pune</td>\n      <td>Sky-One</td>\n      <td>Hindi</td>\n      <td>MIT-ADT</td>\n      <td>painter</td>\n      <td>N</td>\n      <td>Sunday</td>\n      <td>16</td>\n      <td>Intermediate</td>\n    </tr>\n    <tr>\n      <th>9999</th>\n      <td>9999</td>\n      <td>lraedel@yahoo.de</td>\n      <td>Erna Trupp</td>\n      <td>174</td>\n      <td>99</td>\n      <td>49</td>\n      <td>None</td>\n      <td>Pune</td>\n      <td>Evergreen Society</td>\n      <td>English</td>\n      <td>PCCOE</td>\n      <td>Writers</td>\n      <td>Y</td>\n      <td>Friday</td>\n      <td>14</td>\n      <td>Experienced</td>\n    </tr>\n  </tbody>\n</table>\n<p>10000 rows × 16 columns</p>\n</div>"
     },
     "execution_count": 2,
     "metadata": {},
     "output_type": "execute_result"
    }
   ],
   "source": [
    "trek_data = pd.read_csv(\"/Users/yash/PycharmProject/Group-Reccommendation-For-Trek-Using-Social-Networks/Data/trekkers_df.csv\")\n",
    "\n",
    "trek_data"
   ],
   "metadata": {
    "collapsed": false
   }
  },
  {
   "cell_type": "markdown",
   "source": [
    "Checking if our dataset has any missing values:"
   ],
   "metadata": {
    "collapsed": false
   }
  },
  {
   "cell_type": "code",
   "execution_count": 3,
   "outputs": [
    {
     "data": {
      "text/plain": "Unnamed: 0                0\nEmail-ID                  0\nName                      0\nHeight                    0\nWeight                    0\nAge                       0\nGender                    0\nCity                      0\nLocality                  0\nLanguages                 0\ncollege                   0\nProfession                0\nHave you gone Trekking    0\nPreferred Days            0\nNumber of Treks           0\nDifficulty of Trek        0\ndtype: int64"
     },
     "execution_count": 3,
     "metadata": {},
     "output_type": "execute_result"
    }
   ],
   "source": [
    "trek_data.isna().sum()"
   ],
   "metadata": {
    "collapsed": false
   }
  },
  {
   "cell_type": "markdown",
   "source": [
    "Identifying different types of datatypes in our dataset"
   ],
   "metadata": {
    "collapsed": false
   }
  },
  {
   "cell_type": "code",
   "execution_count": 5,
   "outputs": [
    {
     "data": {
      "text/plain": "Unnamed: 0                 int64\nEmail-ID                  object\nName                      object\nHeight                     int64\nWeight                     int64\nAge                        int64\nGender                    object\nCity                      object\nLocality                  object\nLanguages                 object\ncollege                   object\nProfession                object\nHave you gone Trekking    object\nPreferred Days            object\nNumber of Treks            int64\nDifficulty of Trek        object\ndtype: object"
     },
     "execution_count": 5,
     "metadata": {},
     "output_type": "execute_result"
    }
   ],
   "source": [
    "trek_data.dtypes"
   ],
   "metadata": {
    "collapsed": false
   }
  },
  {
   "cell_type": "code",
   "execution_count": 6,
   "outputs": [
    {
     "name": "stdout",
     "output_type": "stream",
     "text": [
      "<class 'pandas.core.frame.DataFrame'>\n",
      "RangeIndex: 10000 entries, 0 to 9999\n",
      "Data columns (total 16 columns):\n",
      " #   Column                  Non-Null Count  Dtype \n",
      "---  ------                  --------------  ----- \n",
      " 0   Unnamed: 0              10000 non-null  int64 \n",
      " 1   Email-ID                10000 non-null  object\n",
      " 2   Name                    10000 non-null  object\n",
      " 3   Height                  10000 non-null  int64 \n",
      " 4   Weight                  10000 non-null  int64 \n",
      " 5   Age                     10000 non-null  int64 \n",
      " 6   Gender                  10000 non-null  object\n",
      " 7   City                    10000 non-null  object\n",
      " 8   Locality                10000 non-null  object\n",
      " 9   Languages               10000 non-null  object\n",
      " 10  college                 10000 non-null  object\n",
      " 11  Profession              10000 non-null  object\n",
      " 12  Have you gone Trekking  10000 non-null  object\n",
      " 13  Preferred Days          10000 non-null  object\n",
      " 14  Number of Treks         10000 non-null  int64 \n",
      " 15  Difficulty of Trek      10000 non-null  object\n",
      "dtypes: int64(5), object(11)\n",
      "memory usage: 1.2+ MB\n"
     ]
    }
   ],
   "source": [
    "trek_data.info()"
   ],
   "metadata": {
    "collapsed": false
   }
  },
  {
   "cell_type": "markdown",
   "source": [
    "note: Here we need to convert our categorical data to numerical data for implementing our ML model"
   ],
   "metadata": {
    "collapsed": false
   }
  },
  {
   "cell_type": "code",
   "execution_count": 4,
   "outputs": [
    {
     "data": {
      "text/plain": "        Unnamed: 0        Height        Weight           Age  Number of Treks\ncount  10000.00000  10000.000000  10000.000000  10000.000000     10000.000000\nmean    4999.50000    179.552000     79.816500     50.064300         9.953600\nstd     2886.89568     11.576169     17.596528     29.287102         6.045635\nmin        0.00000    160.000000     50.000000      0.000000         0.000000\n25%     2499.75000    170.000000     65.000000     25.000000         5.000000\n50%     4999.50000    180.000000     79.000000     50.000000        10.000000\n75%     7499.25000    190.000000     95.000000     76.000000        15.000000\nmax     9999.00000    199.000000    110.000000    100.000000        20.000000",
      "text/html": "<div>\n<style scoped>\n    .dataframe tbody tr th:only-of-type {\n        vertical-align: middle;\n    }\n\n    .dataframe tbody tr th {\n        vertical-align: top;\n    }\n\n    .dataframe thead th {\n        text-align: right;\n    }\n</style>\n<table border=\"1\" class=\"dataframe\">\n  <thead>\n    <tr style=\"text-align: right;\">\n      <th></th>\n      <th>Unnamed: 0</th>\n      <th>Height</th>\n      <th>Weight</th>\n      <th>Age</th>\n      <th>Number of Treks</th>\n    </tr>\n  </thead>\n  <tbody>\n    <tr>\n      <th>count</th>\n      <td>10000.00000</td>\n      <td>10000.000000</td>\n      <td>10000.000000</td>\n      <td>10000.000000</td>\n      <td>10000.000000</td>\n    </tr>\n    <tr>\n      <th>mean</th>\n      <td>4999.50000</td>\n      <td>179.552000</td>\n      <td>79.816500</td>\n      <td>50.064300</td>\n      <td>9.953600</td>\n    </tr>\n    <tr>\n      <th>std</th>\n      <td>2886.89568</td>\n      <td>11.576169</td>\n      <td>17.596528</td>\n      <td>29.287102</td>\n      <td>6.045635</td>\n    </tr>\n    <tr>\n      <th>min</th>\n      <td>0.00000</td>\n      <td>160.000000</td>\n      <td>50.000000</td>\n      <td>0.000000</td>\n      <td>0.000000</td>\n    </tr>\n    <tr>\n      <th>25%</th>\n      <td>2499.75000</td>\n      <td>170.000000</td>\n      <td>65.000000</td>\n      <td>25.000000</td>\n      <td>5.000000</td>\n    </tr>\n    <tr>\n      <th>50%</th>\n      <td>4999.50000</td>\n      <td>180.000000</td>\n      <td>79.000000</td>\n      <td>50.000000</td>\n      <td>10.000000</td>\n    </tr>\n    <tr>\n      <th>75%</th>\n      <td>7499.25000</td>\n      <td>190.000000</td>\n      <td>95.000000</td>\n      <td>76.000000</td>\n      <td>15.000000</td>\n    </tr>\n    <tr>\n      <th>max</th>\n      <td>9999.00000</td>\n      <td>199.000000</td>\n      <td>110.000000</td>\n      <td>100.000000</td>\n      <td>20.000000</td>\n    </tr>\n  </tbody>\n</table>\n</div>"
     },
     "execution_count": 4,
     "metadata": {},
     "output_type": "execute_result"
    }
   ],
   "source": [
    "trek_data.describe()"
   ],
   "metadata": {
    "collapsed": false
   }
  },
  {
   "cell_type": "code",
   "execution_count": null,
   "outputs": [],
   "source": [
    "# turn categories into numbers:\n",
    "from sklearn.preprocessing import OneHotEncoder\n",
    "from sklearn.compose import ColumnTransformer\n",
    "\n",
    "categorical_features = [\"Email-ID\", \"Name\", \"Gender\", \"City\", \"Locality\", \"Languages\", \"college\",\n",
    "                        \"Profession\", \"Have you gone Trekking\", \"Preferred Days\", \"Difficulty of Trek\"]\n",
    "\n",
    "one_hot = OneHotEncoder()\n",
    "\n",
    "transformer = ColumnTransformer([\n",
    "    (\"one_hot\", one_hot, categorical_features)],\n",
    "    remainder=\"passthrough\"\n",
    ")"
   ],
   "metadata": {
    "collapsed": false
   }
  }
 ],
 "metadata": {
  "kernelspec": {
   "display_name": "Python 3",
   "language": "python",
   "name": "python3"
  },
  "language_info": {
   "codemirror_mode": {
    "name": "ipython",
    "version": 2
   },
   "file_extension": ".py",
   "mimetype": "text/x-python",
   "name": "python",
   "nbconvert_exporter": "python",
   "pygments_lexer": "ipython2",
   "version": "2.7.6"
  }
 },
 "nbformat": 4,
 "nbformat_minor": 0
}
